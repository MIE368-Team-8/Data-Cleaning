{
 "cells": [
  {
   "cell_type": "code",
   "execution_count": 47,
   "metadata": {},
   "outputs": [],
   "source": [
    "import pandas as pd\n",
    "from sklearn.model_selection import train_test_split\n",
    "import numpy as np\n",
    "import seaborn as sns\n",
    "from sklearn.linear_model import LinearRegression, LogisticRegression, LassoCV, RidgeCV\n",
    "\n",
    "import matplotlib\n",
    "import matplotlib.pyplot as plt\n",
    "import seaborn as sns\n",
    "import numpy as np\n",
    "import pandas as pd\n",
    "\n",
    "from sklearn.tree import DecisionTreeRegressor\n",
    "from sklearn.tree import export_graphviz\n",
    "from subprocess import call\n",
    "from IPython.display import SVG\n",
    "#from graphviz import Source"
   ]
  },
  {
   "cell_type": "markdown",
   "metadata": {},
   "source": [
    "## Building the initial models"
   ]
  },
  {
   "cell_type": "code",
   "execution_count": 123,
   "metadata": {},
   "outputs": [],
   "source": [
    "data = pd.read_csv(\"data/taxi_FINAL.csv\")"
   ]
  },
  {
   "cell_type": "code",
   "execution_count": 106,
   "metadata": {},
   "outputs": [
    {
     "data": {
      "text/plain": [
       "Index(['vendor_id', 'pickup_datetime', 'dropoff_datetime', 'passenger_count',\n",
       "       'trip_distance', 'pickup_longitude', 'pickup_latitude',\n",
       "       'dropoff_longitude', 'dropoff_latitude', 'fare_amount', 'surcharge',\n",
       "       'mta_tax', 'tip_amount', 'tolls_amount', 'total_amount', 'duration',\n",
       "       'Location', 'time_of_day', 'CRD', 'UNK', 'NOC', 'DIS', 'CSH',\n",
       "       'tip_amount_bin'],\n",
       "      dtype='object')"
      ]
     },
     "execution_count": 106,
     "metadata": {},
     "output_type": "execute_result"
    }
   ],
   "source": [
    "data.columns"
   ]
  },
  {
   "cell_type": "code",
   "execution_count": 124,
   "metadata": {},
   "outputs": [
    {
     "data": {
      "text/plain": [
       "vendor_id           -0.031161\n",
       "passenger_count     -0.003495\n",
       "trip_distance        0.551027\n",
       "pickup_longitude    -0.003495\n",
       "pickup_latitude     -0.011209\n",
       "dropoff_longitude   -0.015585\n",
       "dropoff_latitude    -0.006701\n",
       "fare_amount          0.624147\n",
       "surcharge            0.048372\n",
       "mta_tax                   NaN\n",
       "tip_amount           1.000000\n",
       "tolls_amount        -0.000341\n",
       "total_amount         0.743195\n",
       "duration             0.569341\n",
       "Location            -0.020564\n",
       "time_of_day          0.025375\n",
       "CRD                  0.085818\n",
       "UNK                 -0.008303\n",
       "NOC                 -0.119688\n",
       "DIS                 -0.063635\n",
       "CSH                  0.001348\n",
       "Name: tip_amount, dtype: float64"
      ]
     },
     "execution_count": 124,
     "metadata": {},
     "output_type": "execute_result"
    }
   ],
   "source": [
    "data.corr()[\"tip_amount\"]"
   ]
  },
  {
   "cell_type": "code",
   "execution_count": 149,
   "metadata": {},
   "outputs": [],
   "source": [
    "x_train, x_test, y_train, y_test = train_test_split(data.drop(columns=['tip_amount','pickup_longitude', 'pickup_latitude',\n",
    "       'dropoff_longitude', 'dropoff_latitude','pickup_datetime','dropoff_datetime','total_amount','mta_tax']), data['tip_amount'], test_size=0.30, random_state=1)"
   ]
  },
  {
   "cell_type": "code",
   "execution_count": 126,
   "metadata": {},
   "outputs": [
    {
     "data": {
      "text/plain": [
       "vendor_id           -0.031161\n",
       "passenger_count     -0.003495\n",
       "trip_distance        0.551027\n",
       "pickup_longitude    -0.003495\n",
       "pickup_latitude     -0.011209\n",
       "dropoff_longitude   -0.015585\n",
       "dropoff_latitude    -0.006701\n",
       "fare_amount          0.624147\n",
       "surcharge            0.048372\n",
       "mta_tax                   NaN\n",
       "tip_amount           1.000000\n",
       "tolls_amount        -0.000341\n",
       "total_amount         0.743195\n",
       "duration             0.569341\n",
       "Location            -0.020564\n",
       "time_of_day          0.025375\n",
       "CRD                  0.085818\n",
       "UNK                 -0.008303\n",
       "NOC                 -0.119688\n",
       "DIS                 -0.063635\n",
       "CSH                  0.001348\n",
       "Name: tip_amount, dtype: float64"
      ]
     },
     "execution_count": 126,
     "metadata": {},
     "output_type": "execute_result"
    }
   ],
   "source": [
    "data.corr()[\"tip_amount\"]"
   ]
  },
  {
   "cell_type": "code",
   "execution_count": 127,
   "metadata": {},
   "outputs": [
    {
     "name": "stdout",
     "output_type": "stream",
     "text": [
      "The train score is 0.40563019790279475 and the test score is 0.4058872085786299\n",
      "\n",
      "\n",
      "vendor_id         -0.067295\n",
      "passenger_count    0.000405\n",
      "trip_distance      0.009393\n",
      "fare_amount        0.137949\n",
      "surcharge          0.130248\n",
      "tolls_amount       0.717954\n",
      "duration           0.000092\n",
      "Location          -0.000245\n",
      "time_of_day        0.003297\n",
      "CRD                0.565141\n",
      "UNK                0.484054\n",
      "NOC               -0.788367\n",
      "DIS               -0.905965\n",
      "CSH                0.645137\n",
      "Intercept         -0.073568\n",
      "dtype: float64\n"
     ]
    }
   ],
   "source": [
    "linreg = LinearRegression()\n",
    "linreg.fit(x_train, y_train)\n",
    "\n",
    "train_score = linreg.score(x_train, y_train)\n",
    "test_score = linreg.score(x_test, y_test)\n",
    "print('The train score is {} and the test score is {}'.format(train_score, test_score))\n",
    "print('\\n')\n",
    "betas = pd.Series(linreg.coef_, index=x_train.columns)\n",
    "betas = betas.append(pd.Series({\"Intercept\": linreg.intercept_}))\n",
    "print(betas)"
   ]
  },
  {
   "cell_type": "code",
   "execution_count": 128,
   "metadata": {},
   "outputs": [
    {
     "data": {
      "text/plain": [
       "{'linreg': (0.40563019790279475,\n",
       "  0.4058872085786299,\n",
       "  LinearRegression(copy_X=True, fit_intercept=True, n_jobs=None,\n",
       "           normalize=False),\n",
       "  'runs on x_train')}"
      ]
     },
     "execution_count": 128,
     "metadata": {},
     "output_type": "execute_result"
    }
   ],
   "source": [
    "# We also save the model results\n",
    "all_models = {}\n",
    "all_models['linreg'] = (train_score, test_score, linreg, 'runs on x_train')\n",
    "all_models"
   ]
  },
  {
   "cell_type": "code",
   "execution_count": 129,
   "metadata": {},
   "outputs": [
    {
     "name": "stdout",
     "output_type": "stream",
     "text": [
      "Mean Absolute Error: 0.45355278300531926\n",
      "Mean Squared Error: 0.4167062107945469\n",
      "Root Mean Squared Error: 0.6455278543909216\n",
      "The train score is 0.40171923408195875 and the test score is 0.4018854857377855\n"
     ]
    }
   ],
   "source": [
    "from sklearn import metrics\n",
    "\n",
    "cart_model = DecisionTreeRegressor(max_depth=5, random_state=1)\n",
    "cart_model.fit(x_train, y_train)\n",
    "y_pred= cart_model.predict(x_test)\n",
    "\n",
    "train_score = cart_model.score(x_train, y_train)\n",
    "test_score = cart_model.score(x_test, y_test)\n",
    "\n",
    "#pre = precision_score(y_test, y_pred) # since the dataset is imbalanced\n",
    "#rec = recall_score(y_test, y_pred)\n",
    "\n",
    "#print('On the validation set, the precision is {} and recall is {}'.format(pre, rec))\n",
    "print('Mean Absolute Error:', metrics.mean_absolute_error(y_test, y_pred))\n",
    "print('Mean Squared Error:', metrics.mean_squared_error(y_test, y_pred))\n",
    "print('Root Mean Squared Error:', np.sqrt(metrics.mean_squared_error(y_test, y_pred)))\n",
    "print('The train score is {} and the test score is {}'.format(train_score, test_score))"
   ]
  },
  {
   "cell_type": "code",
   "execution_count": 130,
   "metadata": {},
   "outputs": [],
   "source": [
    "all_models['cart_model'] = (train_score, test_score, cart_model, 'runs on x_train')"
   ]
  },
  {
   "cell_type": "code",
   "execution_count": 131,
   "metadata": {},
   "outputs": [
    {
     "name": "stderr",
     "output_type": "stream",
     "text": [
      "C:\\ProgramData\\Anaconda3\\lib\\site-packages\\sklearn\\model_selection\\_split.py:2053: FutureWarning: You should specify a value for 'cv' instead of relying on the default value. The default value will change from 3 to 5 in version 0.22.\n",
      "  warnings.warn(CV_WARNING, FutureWarning)\n"
     ]
    },
    {
     "name": "stdout",
     "output_type": "stream",
     "text": [
      "The train score is 0.37276915209054406 and the test score is 0.37333905182913296\n",
      "\n",
      "\n",
      "vendor_id         -0.000000\n",
      "passenger_count   -0.000000\n",
      "trip_distance      0.000000\n",
      "fare_amount        0.073218\n",
      "surcharge          0.000000\n",
      "tolls_amount      -0.000000\n",
      "duration           0.000726\n",
      "Location           0.000000\n",
      "time_of_day        0.000000\n",
      "CRD                0.000000\n",
      "UNK               -0.000000\n",
      "NOC               -0.000000\n",
      "DIS               -0.000000\n",
      "CSH               -0.000000\n",
      "Intercept          0.651679\n",
      "dtype: float64\n"
     ]
    }
   ],
   "source": [
    "# Fit the model\n",
    "lasso = LassoCV()\n",
    "lasso.fit(x_train, y_train)\n",
    "\n",
    "# calculate the score\n",
    "train_score = lasso.score(x_train, y_train)\n",
    "test_score = lasso.score(x_test, y_test)\n",
    "\n",
    "print('The train score is {} and the test score is {}'.format(train_score, test_score)) \n",
    "\n",
    "# calculate betas\n",
    "print('\\n')\n",
    "betas = pd.Series(lasso.coef_, index= x_train.columns)\n",
    "betas = betas.append(pd.Series({\"Intercept\": lasso.intercept_}))\n",
    "print(betas)\n",
    "              "
   ]
  },
  {
   "cell_type": "code",
   "execution_count": 132,
   "metadata": {},
   "outputs": [],
   "source": [
    "all_models['lasso'] = (train_score, test_score, lasso, 'runs on x_train')"
   ]
  },
  {
   "cell_type": "code",
   "execution_count": null,
   "metadata": {},
   "outputs": [],
   "source": [
    "# Visualize the decision tree\n",
    "cart_graph = Source(export_graphviz(cart_model,\n",
    "                   feature_names = df.columns[1:],\n",
    "                   rounded = True, proportion = False, \n",
    "                  filled = True))\n",
    "SVG(cart_graph.pipe(format='svg'))"
   ]
  },
  {
   "cell_type": "code",
   "execution_count": 133,
   "metadata": {},
   "outputs": [
    {
     "name": "stderr",
     "output_type": "stream",
     "text": [
      "C:\\ProgramData\\Anaconda3\\lib\\site-packages\\sklearn\\ensemble\\forest.py:246: FutureWarning: The default value of n_estimators will change from 10 in version 0.20 to 100 in 0.22.\n",
      "  \"10 in version 0.20 to 100 in 0.22.\", FutureWarning)\n"
     ]
    },
    {
     "name": "stdout",
     "output_type": "stream",
     "text": [
      "Mean Absolute Error: 0.4532240792796501\n",
      "Mean Squared Error: 0.41638532020391744\n",
      "Root Mean Squared Error: 0.6452792575342226\n",
      "The train score is 0.4021872357624784 and the test score is 0.4023460723927807\n"
     ]
    }
   ],
   "source": [
    "from sklearn.ensemble import RandomForestRegressor\n",
    "\n",
    "# Train the CART model\n",
    "rfc_model = RandomForestRegressor(max_depth=5,random_state=1)\n",
    "rfc_model.fit(x_train, y_train)\n",
    "y_pred= rfc_model.predict(x_test)\n",
    "\n",
    "train_score = rfc_model.score(x_train, y_train)\n",
    "test_score = rfc_model.score(x_test, y_test)\n",
    "\n",
    "print('Mean Absolute Error:', metrics.mean_absolute_error(y_test, y_pred))\n",
    "print('Mean Squared Error:', metrics.mean_squared_error(y_test, y_pred))\n",
    "print('Root Mean Squared Error:', np.sqrt(metrics.mean_squared_error(y_test, y_pred)))\n",
    "print('The train score is {} and the test score is {}'.format(train_score, test_score)) \n"
   ]
  },
  {
   "cell_type": "code",
   "execution_count": 134,
   "metadata": {},
   "outputs": [],
   "source": [
    "all_models['rfc'] = (train_score, test_score, rfc_model, 'runs on x_train')"
   ]
  },
  {
   "cell_type": "markdown",
   "metadata": {},
   "source": [
    "## Feature Engineering"
   ]
  },
  {
   "cell_type": "code",
   "execution_count": 135,
   "metadata": {},
   "outputs": [
    {
     "data": {
      "text/plain": [
       "Index(['vendor_id', 'pickup_datetime', 'dropoff_datetime', 'passenger_count',\n",
       "       'trip_distance', 'pickup_longitude', 'pickup_latitude',\n",
       "       'dropoff_longitude', 'dropoff_latitude', 'fare_amount', 'surcharge',\n",
       "       'mta_tax', 'tip_amount', 'tolls_amount', 'total_amount', 'duration',\n",
       "       'Location', 'time_of_day', 'CRD', 'UNK', 'NOC', 'DIS', 'CSH'],\n",
       "      dtype='object')"
      ]
     },
     "execution_count": 135,
     "metadata": {},
     "output_type": "execute_result"
    }
   ],
   "source": [
    "data.columns"
   ]
  },
  {
   "cell_type": "code",
   "execution_count": 136,
   "metadata": {},
   "outputs": [
    {
     "data": {
      "text/html": [
       "<div>\n",
       "<style scoped>\n",
       "    .dataframe tbody tr th:only-of-type {\n",
       "        vertical-align: middle;\n",
       "    }\n",
       "\n",
       "    .dataframe tbody tr th {\n",
       "        vertical-align: top;\n",
       "    }\n",
       "\n",
       "    .dataframe thead th {\n",
       "        text-align: right;\n",
       "    }\n",
       "</style>\n",
       "<table border=\"1\" class=\"dataframe\">\n",
       "  <thead>\n",
       "    <tr style=\"text-align: right;\">\n",
       "      <th></th>\n",
       "      <th>vendor_id</th>\n",
       "      <th>pickup_datetime</th>\n",
       "      <th>dropoff_datetime</th>\n",
       "      <th>passenger_count</th>\n",
       "      <th>trip_distance</th>\n",
       "      <th>pickup_longitude</th>\n",
       "      <th>pickup_latitude</th>\n",
       "      <th>dropoff_longitude</th>\n",
       "      <th>dropoff_latitude</th>\n",
       "      <th>fare_amount</th>\n",
       "      <th>...</th>\n",
       "      <th>tolls_amount</th>\n",
       "      <th>total_amount</th>\n",
       "      <th>duration</th>\n",
       "      <th>Location</th>\n",
       "      <th>time_of_day</th>\n",
       "      <th>CRD</th>\n",
       "      <th>UNK</th>\n",
       "      <th>NOC</th>\n",
       "      <th>DIS</th>\n",
       "      <th>CSH</th>\n",
       "    </tr>\n",
       "  </thead>\n",
       "  <tbody>\n",
       "    <tr>\n",
       "      <th>0</th>\n",
       "      <td>1</td>\n",
       "      <td>2014-01-09 20:45:25</td>\n",
       "      <td>2014-01-09 20:52:31</td>\n",
       "      <td>1</td>\n",
       "      <td>0.7</td>\n",
       "      <td>-73.994770</td>\n",
       "      <td>40.736828</td>\n",
       "      <td>-73.982227</td>\n",
       "      <td>40.731790</td>\n",
       "      <td>6.5</td>\n",
       "      <td>...</td>\n",
       "      <td>0.0</td>\n",
       "      <td>8.90</td>\n",
       "      <td>426</td>\n",
       "      <td>5</td>\n",
       "      <td>4</td>\n",
       "      <td>1</td>\n",
       "      <td>0</td>\n",
       "      <td>0</td>\n",
       "      <td>0</td>\n",
       "      <td>0</td>\n",
       "    </tr>\n",
       "    <tr>\n",
       "      <th>1</th>\n",
       "      <td>1</td>\n",
       "      <td>2014-01-09 20:46:12</td>\n",
       "      <td>2014-01-09 20:55:12</td>\n",
       "      <td>1</td>\n",
       "      <td>1.4</td>\n",
       "      <td>-73.982392</td>\n",
       "      <td>40.773382</td>\n",
       "      <td>-73.960449</td>\n",
       "      <td>40.763995</td>\n",
       "      <td>8.5</td>\n",
       "      <td>...</td>\n",
       "      <td>0.0</td>\n",
       "      <td>11.40</td>\n",
       "      <td>540</td>\n",
       "      <td>4</td>\n",
       "      <td>4</td>\n",
       "      <td>1</td>\n",
       "      <td>0</td>\n",
       "      <td>0</td>\n",
       "      <td>0</td>\n",
       "      <td>0</td>\n",
       "    </tr>\n",
       "    <tr>\n",
       "      <th>2</th>\n",
       "      <td>1</td>\n",
       "      <td>2014-01-09 20:44:47</td>\n",
       "      <td>2014-01-09 20:59:46</td>\n",
       "      <td>2</td>\n",
       "      <td>2.3</td>\n",
       "      <td>-73.988570</td>\n",
       "      <td>40.739406</td>\n",
       "      <td>-73.986626</td>\n",
       "      <td>40.765217</td>\n",
       "      <td>11.5</td>\n",
       "      <td>...</td>\n",
       "      <td>0.0</td>\n",
       "      <td>14.00</td>\n",
       "      <td>899</td>\n",
       "      <td>5</td>\n",
       "      <td>4</td>\n",
       "      <td>1</td>\n",
       "      <td>0</td>\n",
       "      <td>0</td>\n",
       "      <td>0</td>\n",
       "      <td>0</td>\n",
       "    </tr>\n",
       "    <tr>\n",
       "      <th>3</th>\n",
       "      <td>1</td>\n",
       "      <td>2014-01-09 20:44:57</td>\n",
       "      <td>2014-01-09 20:51:40</td>\n",
       "      <td>1</td>\n",
       "      <td>1.7</td>\n",
       "      <td>-73.960213</td>\n",
       "      <td>40.770464</td>\n",
       "      <td>-73.979863</td>\n",
       "      <td>40.777050</td>\n",
       "      <td>7.5</td>\n",
       "      <td>...</td>\n",
       "      <td>0.0</td>\n",
       "      <td>10.20</td>\n",
       "      <td>403</td>\n",
       "      <td>5</td>\n",
       "      <td>4</td>\n",
       "      <td>1</td>\n",
       "      <td>0</td>\n",
       "      <td>0</td>\n",
       "      <td>0</td>\n",
       "      <td>0</td>\n",
       "    </tr>\n",
       "    <tr>\n",
       "      <th>4</th>\n",
       "      <td>1</td>\n",
       "      <td>2014-01-09 20:47:09</td>\n",
       "      <td>2014-01-09 20:53:32</td>\n",
       "      <td>1</td>\n",
       "      <td>0.9</td>\n",
       "      <td>-73.995371</td>\n",
       "      <td>40.717248</td>\n",
       "      <td>-73.984367</td>\n",
       "      <td>40.720524</td>\n",
       "      <td>6.0</td>\n",
       "      <td>...</td>\n",
       "      <td>0.0</td>\n",
       "      <td>8.75</td>\n",
       "      <td>383</td>\n",
       "      <td>5</td>\n",
       "      <td>4</td>\n",
       "      <td>1</td>\n",
       "      <td>0</td>\n",
       "      <td>0</td>\n",
       "      <td>0</td>\n",
       "      <td>0</td>\n",
       "    </tr>\n",
       "  </tbody>\n",
       "</table>\n",
       "<p>5 rows × 23 columns</p>\n",
       "</div>"
      ],
      "text/plain": [
       "   vendor_id      pickup_datetime     dropoff_datetime  passenger_count  \\\n",
       "0          1  2014-01-09 20:45:25  2014-01-09 20:52:31                1   \n",
       "1          1  2014-01-09 20:46:12  2014-01-09 20:55:12                1   \n",
       "2          1  2014-01-09 20:44:47  2014-01-09 20:59:46                2   \n",
       "3          1  2014-01-09 20:44:57  2014-01-09 20:51:40                1   \n",
       "4          1  2014-01-09 20:47:09  2014-01-09 20:53:32                1   \n",
       "\n",
       "   trip_distance  pickup_longitude  pickup_latitude  dropoff_longitude  \\\n",
       "0            0.7        -73.994770        40.736828         -73.982227   \n",
       "1            1.4        -73.982392        40.773382         -73.960449   \n",
       "2            2.3        -73.988570        40.739406         -73.986626   \n",
       "3            1.7        -73.960213        40.770464         -73.979863   \n",
       "4            0.9        -73.995371        40.717248         -73.984367   \n",
       "\n",
       "   dropoff_latitude  fare_amount  ...  tolls_amount  total_amount  duration  \\\n",
       "0         40.731790          6.5  ...           0.0          8.90       426   \n",
       "1         40.763995          8.5  ...           0.0         11.40       540   \n",
       "2         40.765217         11.5  ...           0.0         14.00       899   \n",
       "3         40.777050          7.5  ...           0.0         10.20       403   \n",
       "4         40.720524          6.0  ...           0.0          8.75       383   \n",
       "\n",
       "   Location  time_of_day  CRD  UNK  NOC  DIS  CSH  \n",
       "0         5            4    1    0    0    0    0  \n",
       "1         4            4    1    0    0    0    0  \n",
       "2         5            4    1    0    0    0    0  \n",
       "3         5            4    1    0    0    0    0  \n",
       "4         5            4    1    0    0    0    0  \n",
       "\n",
       "[5 rows x 23 columns]"
      ]
     },
     "execution_count": 136,
     "metadata": {},
     "output_type": "execute_result"
    }
   ],
   "source": [
    "data.head()"
   ]
  },
  {
   "cell_type": "code",
   "execution_count": 137,
   "metadata": {},
   "outputs": [],
   "source": [
    "cont = [\"passenger_count\",\"tip_distance\",\"fare_amount\",\"surcharge\",\"tolls_amount\",\"duration\"]"
   ]
  },
  {
   "cell_type": "code",
   "execution_count": 145,
   "metadata": {},
   "outputs": [
    {
     "data": {
      "text/plain": [
       "vendor_id         -0.031161\n",
       "passenger_count   -0.003495\n",
       "trip_distance      0.551027\n",
       "fare_amount        0.624147\n",
       "surcharge          0.048372\n",
       "tolls_amount      -0.000341\n",
       "duration           0.569341\n",
       "Location          -0.020564\n",
       "time_of_day        0.025375\n",
       "CRD                0.085818\n",
       "UNK               -0.008303\n",
       "NOC               -0.119688\n",
       "DIS               -0.063635\n",
       "CSH                0.001348\n",
       "Name: tip_amount, dtype: float64"
      ]
     },
     "execution_count": 145,
     "metadata": {},
     "output_type": "execute_result"
    }
   ],
   "source": [
    "base_corrs = data.corr().tip_amount.drop(index=['tip_amount','mta_tax',\"pickup_longitude\",\n",
    "                        \"pickup_latitude\",\"dropoff_longitude\",\"dropoff_latitude\",\"total_amount\"])\n",
    "base_corrs"
   ]
  },
  {
   "cell_type": "code",
   "execution_count": 154,
   "metadata": {},
   "outputs": [
    {
     "name": "stdout",
     "output_type": "stream",
     "text": [
      "vendor_id time_of_day combine to get correlation 0.047 compared to 0.031 0.025\n",
      "Location time_of_day combine to get correlation 0.044 compared to 0.021 0.025\n"
     ]
    }
   ],
   "source": [
    "for feature1 in base_corrs.index:\n",
    "    for feature2 in base_corrs.index:\n",
    "        if feature2 != feature1:\n",
    "            # divide the two features to create a new feature\n",
    "            new_feature = x_train[feature1] / x_train[feature2]\n",
    "            new_corr = np.abs(np.round(np.corrcoef(new_feature, y_train)[0,1], 3))\n",
    "            corr1 = np.abs(np.round(base_corrs[feature1], 3))\n",
    "            corr2 = np.abs(np.round(base_corrs[feature2], 3))\n",
    "            # add a threshold of 0.02 to make sure that the improvement is meaningful\n",
    "            if new_corr > max(corr1, corr2)+0.015:\n",
    "                print('{} {} combine to get correlation {} compared to {} {}'.format(\n",
    "                    feature1, feature2, new_corr, corr1, corr2))"
   ]
  },
  {
   "cell_type": "code",
   "execution_count": 155,
   "metadata": {},
   "outputs": [],
   "source": [
    "for feature1 in base_corrs.index:\n",
    "    for feature2 in base_corrs.index:\n",
    "        if feature2 != feature1:\n",
    "            # divide the two features to create a new feature\n",
    "            new_feature = x_train[feature1] * x_train[feature2]\n",
    "            new_corr = np.abs(np.round(np.corrcoef(new_feature, y_train)[0,1], 3))\n",
    "            corr1 = np.abs(np.round(base_corrs[feature1], 3))\n",
    "            corr2 = np.abs(np.round(base_corrs[feature2], 3))\n",
    "            # add a threshold of 0.02 to make sure that the improvement is meaningful\n",
    "            if new_corr > max(corr1, corr2)+0.015:\n",
    "                print('{} {} combine to get correlation {} compared to {} {}'.format(\n",
    "                    feature1, feature2, new_corr, corr1, corr2))"
   ]
  },
  {
   "cell_type": "code",
   "execution_count": null,
   "metadata": {},
   "outputs": [],
   "source": []
  },
  {
   "cell_type": "code",
   "execution_count": null,
   "metadata": {},
   "outputs": [],
   "source": []
  }
 ],
 "metadata": {
  "kernelspec": {
   "display_name": "Python 3",
   "language": "python",
   "name": "python3"
  },
  "language_info": {
   "codemirror_mode": {
    "name": "ipython",
    "version": 3
   },
   "file_extension": ".py",
   "mimetype": "text/x-python",
   "name": "python",
   "nbconvert_exporter": "python",
   "pygments_lexer": "ipython3",
   "version": "3.7.3"
  }
 },
 "nbformat": 4,
 "nbformat_minor": 2
}
