{
 "cells": [
  {
   "cell_type": "code",
   "execution_count": 1,
   "metadata": {},
   "outputs": [],
   "source": [
    "import pandas as pd\n",
    "from sklearn.model_selection import train_test_split"
   ]
  },
  {
   "cell_type": "code",
   "execution_count": 5,
   "metadata": {},
   "outputs": [
    {
     "name": "stdout",
     "output_type": "stream",
     "text": [
      " Volume in drive W is DATA\n",
      " Volume Serial Number is A2E5-30A4\n",
      "\n",
      " Directory of W:\\MIE368\n",
      "\n",
      "11/11/2019  10:31 AM    <DIR>          .\n",
      "11/11/2019  10:31 AM    <DIR>          ..\n",
      "11/11/2019  10:30 AM    <DIR>          .ipynb_checkpoints\n",
      "11/11/2019  09:57 AM             9,174 Census Analysis.ipynb\n",
      "11/11/2019  09:57 AM           181,008 Census_data.ipynb\n",
      "10/31/2019  03:12 PM    <DIR>          data\n",
      "10/31/2019  04:46 PM             2,459 LinReg.ipynb\n",
      "11/11/2019  10:19 AM            91,892 Model.ipynb\n",
      "10/31/2019  03:50 PM           300,982 TaxiDataCleaning.ipynb\n",
      "11/11/2019  10:31 AM             8,584 TestModel.ipynb\n",
      "               6 File(s)        594,099 bytes\n",
      "               4 Dir(s)  1,759,796,592,640 bytes free\n"
     ]
    }
   ],
   "source": [
    "ls"
   ]
  },
  {
   "cell_type": "code",
   "execution_count": 2,
   "metadata": {},
   "outputs": [],
   "source": [
    "data = pd.read_csv(\"data/taxi_cleaned.csv\")"
   ]
  },
  {
   "cell_type": "code",
   "execution_count": 3,
   "metadata": {},
   "outputs": [
    {
     "data": {
      "text/html": [
       "<div>\n",
       "<style scoped>\n",
       "    .dataframe tbody tr th:only-of-type {\n",
       "        vertical-align: middle;\n",
       "    }\n",
       "\n",
       "    .dataframe tbody tr th {\n",
       "        vertical-align: top;\n",
       "    }\n",
       "\n",
       "    .dataframe thead th {\n",
       "        text-align: right;\n",
       "    }\n",
       "</style>\n",
       "<table border=\"1\" class=\"dataframe\">\n",
       "  <thead>\n",
       "    <tr style=\"text-align: right;\">\n",
       "      <th></th>\n",
       "      <th>vendor_id</th>\n",
       "      <th>pickup_datetime</th>\n",
       "      <th>dropoff_datetime</th>\n",
       "      <th>passenger_count</th>\n",
       "      <th>trip_distance</th>\n",
       "      <th>pickup_longitude</th>\n",
       "      <th>pickup_latitude</th>\n",
       "      <th>dropoff_longitude</th>\n",
       "      <th>dropoff_latitude</th>\n",
       "      <th>payment_type</th>\n",
       "      <th>fare_amount</th>\n",
       "      <th>surcharge</th>\n",
       "      <th>mta_tax</th>\n",
       "      <th>tip_amount</th>\n",
       "      <th>tolls_amount</th>\n",
       "      <th>total_amount</th>\n",
       "      <th>duration</th>\n",
       "    </tr>\n",
       "  </thead>\n",
       "  <tbody>\n",
       "    <tr>\n",
       "      <th>0</th>\n",
       "      <td>CMT</td>\n",
       "      <td>2014-01-09 20:45:25</td>\n",
       "      <td>2014-01-09 20:52:31</td>\n",
       "      <td>1</td>\n",
       "      <td>0.7</td>\n",
       "      <td>-73.994770</td>\n",
       "      <td>40.736828</td>\n",
       "      <td>-73.982227</td>\n",
       "      <td>40.731790</td>\n",
       "      <td>CRD</td>\n",
       "      <td>6.5</td>\n",
       "      <td>0.5</td>\n",
       "      <td>0.5</td>\n",
       "      <td>1.40</td>\n",
       "      <td>0.0</td>\n",
       "      <td>8.90</td>\n",
       "      <td>426</td>\n",
       "    </tr>\n",
       "    <tr>\n",
       "      <th>1</th>\n",
       "      <td>CMT</td>\n",
       "      <td>2014-01-09 20:46:12</td>\n",
       "      <td>2014-01-09 20:55:12</td>\n",
       "      <td>1</td>\n",
       "      <td>1.4</td>\n",
       "      <td>-73.982392</td>\n",
       "      <td>40.773382</td>\n",
       "      <td>-73.960449</td>\n",
       "      <td>40.763995</td>\n",
       "      <td>CRD</td>\n",
       "      <td>8.5</td>\n",
       "      <td>0.5</td>\n",
       "      <td>0.5</td>\n",
       "      <td>1.90</td>\n",
       "      <td>0.0</td>\n",
       "      <td>11.40</td>\n",
       "      <td>540</td>\n",
       "    </tr>\n",
       "    <tr>\n",
       "      <th>2</th>\n",
       "      <td>CMT</td>\n",
       "      <td>2014-01-09 20:44:47</td>\n",
       "      <td>2014-01-09 20:59:46</td>\n",
       "      <td>2</td>\n",
       "      <td>2.3</td>\n",
       "      <td>-73.988570</td>\n",
       "      <td>40.739406</td>\n",
       "      <td>-73.986626</td>\n",
       "      <td>40.765217</td>\n",
       "      <td>CRD</td>\n",
       "      <td>11.5</td>\n",
       "      <td>0.5</td>\n",
       "      <td>0.5</td>\n",
       "      <td>1.50</td>\n",
       "      <td>0.0</td>\n",
       "      <td>14.00</td>\n",
       "      <td>899</td>\n",
       "    </tr>\n",
       "    <tr>\n",
       "      <th>3</th>\n",
       "      <td>CMT</td>\n",
       "      <td>2014-01-09 20:44:57</td>\n",
       "      <td>2014-01-09 20:51:40</td>\n",
       "      <td>1</td>\n",
       "      <td>1.7</td>\n",
       "      <td>-73.960213</td>\n",
       "      <td>40.770464</td>\n",
       "      <td>-73.979863</td>\n",
       "      <td>40.777050</td>\n",
       "      <td>CRD</td>\n",
       "      <td>7.5</td>\n",
       "      <td>0.5</td>\n",
       "      <td>0.5</td>\n",
       "      <td>1.70</td>\n",
       "      <td>0.0</td>\n",
       "      <td>10.20</td>\n",
       "      <td>403</td>\n",
       "    </tr>\n",
       "    <tr>\n",
       "      <th>4</th>\n",
       "      <td>CMT</td>\n",
       "      <td>2014-01-09 20:47:09</td>\n",
       "      <td>2014-01-09 20:53:32</td>\n",
       "      <td>1</td>\n",
       "      <td>0.9</td>\n",
       "      <td>-73.995371</td>\n",
       "      <td>40.717248</td>\n",
       "      <td>-73.984367</td>\n",
       "      <td>40.720524</td>\n",
       "      <td>CRD</td>\n",
       "      <td>6.0</td>\n",
       "      <td>0.5</td>\n",
       "      <td>0.5</td>\n",
       "      <td>1.75</td>\n",
       "      <td>0.0</td>\n",
       "      <td>8.75</td>\n",
       "      <td>383</td>\n",
       "    </tr>\n",
       "  </tbody>\n",
       "</table>\n",
       "</div>"
      ],
      "text/plain": [
       "  vendor_id      pickup_datetime     dropoff_datetime  passenger_count  \\\n",
       "0       CMT  2014-01-09 20:45:25  2014-01-09 20:52:31                1   \n",
       "1       CMT  2014-01-09 20:46:12  2014-01-09 20:55:12                1   \n",
       "2       CMT  2014-01-09 20:44:47  2014-01-09 20:59:46                2   \n",
       "3       CMT  2014-01-09 20:44:57  2014-01-09 20:51:40                1   \n",
       "4       CMT  2014-01-09 20:47:09  2014-01-09 20:53:32                1   \n",
       "\n",
       "   trip_distance  pickup_longitude  pickup_latitude  dropoff_longitude  \\\n",
       "0            0.7        -73.994770        40.736828         -73.982227   \n",
       "1            1.4        -73.982392        40.773382         -73.960449   \n",
       "2            2.3        -73.988570        40.739406         -73.986626   \n",
       "3            1.7        -73.960213        40.770464         -73.979863   \n",
       "4            0.9        -73.995371        40.717248         -73.984367   \n",
       "\n",
       "   dropoff_latitude payment_type  fare_amount  surcharge  mta_tax  tip_amount  \\\n",
       "0         40.731790          CRD          6.5        0.5      0.5        1.40   \n",
       "1         40.763995          CRD          8.5        0.5      0.5        1.90   \n",
       "2         40.765217          CRD         11.5        0.5      0.5        1.50   \n",
       "3         40.777050          CRD          7.5        0.5      0.5        1.70   \n",
       "4         40.720524          CRD          6.0        0.5      0.5        1.75   \n",
       "\n",
       "   tolls_amount  total_amount  duration  \n",
       "0           0.0          8.90       426  \n",
       "1           0.0         11.40       540  \n",
       "2           0.0         14.00       899  \n",
       "3           0.0         10.20       403  \n",
       "4           0.0          8.75       383  "
      ]
     },
     "execution_count": 3,
     "metadata": {},
     "output_type": "execute_result"
    }
   ],
   "source": [
    "data.head()"
   ]
  },
  {
   "cell_type": "code",
   "execution_count": 4,
   "metadata": {},
   "outputs": [
    {
     "data": {
      "text/plain": [
       "Index(['vendor_id', 'pickup_datetime', 'dropoff_datetime', 'passenger_count',\n",
       "       'trip_distance', 'pickup_longitude', 'pickup_latitude',\n",
       "       'dropoff_longitude', 'dropoff_latitude', 'payment_type', 'fare_amount',\n",
       "       'surcharge', 'mta_tax', 'tip_amount', 'tolls_amount', 'total_amount',\n",
       "       'duration'],\n",
       "      dtype='object')"
      ]
     },
     "execution_count": 4,
     "metadata": {},
     "output_type": "execute_result"
    }
   ],
   "source": [
    "data.columns"
   ]
  },
  {
   "cell_type": "code",
   "execution_count": 15,
   "metadata": {},
   "outputs": [],
   "source": [
    "x_train, x_test, y_train, y_test = train_test_split(data.drop(columns=['tip_amount','pickup_longitude', 'pickup_latitude',\n",
    "       'dropoff_longitude', 'dropoff_latitude','payment_type','vendor_id', 'pickup_datetime', 'dropoff_datetime','total_amount','mta_tax']), data['tip_amount'], test_size=0.30, random_state=5)"
   ]
  },
  {
   "cell_type": "code",
   "execution_count": 6,
   "metadata": {},
   "outputs": [],
   "source": [
    "import seaborn as sns\n",
    "from sklearn.linear_model import LinearRegression, LogisticRegression, LassoCV, RidgeCV"
   ]
  },
  {
   "cell_type": "code",
   "execution_count": 12,
   "metadata": {},
   "outputs": [],
   "source": [
    "linreg = LinearRegression()\n",
    "linreg.fit(x_train, y_train)\n",
    "\n",
    "train_score = linreg.score(x_train, y_train)\n",
    "test_score = linreg.score(x_test, y_test)"
   ]
  },
  {
   "cell_type": "code",
   "execution_count": 16,
   "metadata": {},
   "outputs": [
    {
     "name": "stdout",
     "output_type": "stream",
     "text": [
      "The train score is 0.38545876874805496 and the test score is 0.3844660058581069\n",
      "\n",
      "\n",
      "passenger_count   -0.006700\n",
      "trip_distance      0.004456\n",
      "fare_amount        0.151982\n",
      "surcharge          0.142523\n",
      "tolls_amount      -0.074787\n",
      "duration          -0.000012\n",
      "Intercept          0.352831\n",
      "dtype: float64\n"
     ]
    }
   ],
   "source": [
    "print('The train score is {} and the test score is {}'.format(train_score, test_score))\n",
    "print('\\n')\n",
    "betas = pd.Series(linreg.coef_, index=x_train.columns)\n",
    "betas = betas.append(pd.Series({\"Intercept\": linreg.intercept_}))\n",
    "print(betas)"
   ]
  },
  {
   "cell_type": "code",
   "execution_count": 20,
   "metadata": {},
   "outputs": [
    {
     "name": "stderr",
     "output_type": "stream",
     "text": [
      "C:\\ProgramData\\Anaconda3\\lib\\site-packages\\sklearn\\model_selection\\_split.py:2053: FutureWarning: You should specify a value for 'cv' instead of relying on the default value. The default value will change from 3 to 5 in version 0.22.\n",
      "  warnings.warn(CV_WARNING, FutureWarning)\n"
     ]
    },
    {
     "name": "stdout",
     "output_type": "stream",
     "text": [
      "The train score is 0.38545876874805496 and the test score is 0.3844660058581069\n",
      "\n",
      "\n",
      "passenger_count   -0.000000\n",
      "trip_distance      0.000000\n",
      "fare_amount        0.091783\n",
      "surcharge          0.000000\n",
      "tolls_amount      -0.000000\n",
      "duration           0.000560\n",
      "Intercept          0.596806\n",
      "dtype: float64\n"
     ]
    }
   ],
   "source": [
    "# Fit the model\n",
    "lasso = LassoCV(eps=0.001)\n",
    "lasso.fit(x_train, y_train)\n",
    "\n",
    "# calculate the score\n",
    "train_score = lasso.score(x_train, y_train)\n",
    "test_score = lasso.score(x_test, y_test)\n",
    "\n",
    "print('The train score is {} and the test score is {}'.format(train_score, test_score)) \n",
    "\n",
    "# calculate betas\n",
    "print('\\n')\n",
    "betas = pd.Series(lasso.coef_, index= x_train.columns)\n",
    "betas = betas.append(pd.Series({\"Intercept\": lasso.intercept_}))\n",
    "print(betas)\n",
    "              "
   ]
  },
  {
   "cell_type": "markdown",
   "metadata": {},
   "source": [
    "//Cart and RFT then model engineering "
   ]
  }
 ],
 "metadata": {
  "kernelspec": {
   "display_name": "Python 3",
   "language": "python",
   "name": "python3"
  },
  "language_info": {
   "codemirror_mode": {
    "name": "ipython",
    "version": 3
   },
   "file_extension": ".py",
   "mimetype": "text/x-python",
   "name": "python",
   "nbconvert_exporter": "python",
   "pygments_lexer": "ipython3",
   "version": "3.7.3"
  }
 },
 "nbformat": 4,
 "nbformat_minor": 2
}
