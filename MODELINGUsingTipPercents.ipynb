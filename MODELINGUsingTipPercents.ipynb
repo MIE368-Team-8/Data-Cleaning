{
 "cells": [
  {
   "cell_type": "code",
   "execution_count": 1,
   "metadata": {},
   "outputs": [],
   "source": [
    "import pandas as pd\n",
    "from sklearn.model_selection import train_test_split\n",
    "import numpy as np\n",
    "import seaborn as sns\n",
    "from sklearn.linear_model import LinearRegression, LogisticRegression, LassoCV, RidgeCV\n",
    "\n",
    "import matplotlib\n",
    "import matplotlib.pyplot as plt\n",
    "import seaborn as sns\n",
    "import numpy as np\n",
    "import pandas as pd\n",
    "\n",
    "from sklearn.tree import DecisionTreeRegressor\n",
    "from sklearn.tree import export_graphviz\n",
    "from subprocess import call\n",
    "from IPython.display import SVG\n",
    "#from graphviz import Source"
   ]
  },
  {
   "cell_type": "code",
   "execution_count": 19,
   "metadata": {},
   "outputs": [],
   "source": [
    "import warnings\n",
    "warnings.filterwarnings(\"ignore\")\n",
    "from sklearn.linear_model import LogisticRegressionCV"
   ]
  },
  {
   "cell_type": "markdown",
   "metadata": {},
   "source": [
    "## Building the initial models"
   ]
  },
  {
   "cell_type": "code",
   "execution_count": 2,
   "metadata": {},
   "outputs": [],
   "source": [
    "data = pd.read_csv(\"data/taxi_FINAL_FINAL.csv\")"
   ]
  },
  {
   "cell_type": "code",
   "execution_count": 3,
   "metadata": {},
   "outputs": [
    {
     "data": {
      "text/plain": [
       "Index(['vendor_id', 'pickup_datetime', 'dropoff_datetime', 'passenger_count',\n",
       "       'trip_distance', 'pickup_longitude', 'pickup_latitude',\n",
       "       'dropoff_longitude', 'dropoff_latitude', 'fare_amount', 'surcharge',\n",
       "       'mta_tax', 'tip_amount', 'tolls_amount', 'total_amount', 'duration',\n",
       "       'Location', 'time_of_day', 'CRD', 'UNK', 'NOC', 'DIS', 'CSH',\n",
       "       'tip_percent', 'tip_amount_binned'],\n",
       "      dtype='object')"
      ]
     },
     "execution_count": 3,
     "metadata": {},
     "output_type": "execute_result"
    }
   ],
   "source": [
    "data.columns"
   ]
  },
  {
   "cell_type": "code",
   "execution_count": 4,
   "metadata": {},
   "outputs": [
    {
     "data": {
      "text/plain": [
       "vendor_id            0.007933\n",
       "passenger_count      0.002623\n",
       "trip_distance       -0.142188\n",
       "pickup_longitude    -0.003530\n",
       "pickup_latitude     -0.002423\n",
       "dropoff_longitude   -0.021144\n",
       "dropoff_latitude    -0.008250\n",
       "fare_amount         -0.157120\n",
       "surcharge           -0.025569\n",
       "mta_tax                   NaN\n",
       "tip_amount           0.587897\n",
       "tolls_amount        -0.001206\n",
       "total_amount        -0.016519\n",
       "duration            -0.142556\n",
       "Location             0.005401\n",
       "time_of_day         -0.009678\n",
       "CRD                  0.121932\n",
       "UNK                 -0.018596\n",
       "NOC                 -0.161627\n",
       "DIS                 -0.085927\n",
       "CSH                  0.001160\n",
       "tip_percent          1.000000\n",
       "tip_amount_binned    0.590560\n",
       "Name: tip_percent, dtype: float64"
      ]
     },
     "execution_count": 4,
     "metadata": {},
     "output_type": "execute_result"
    }
   ],
   "source": [
    "data.corr()[\"tip_percent\"]"
   ]
  },
  {
   "cell_type": "code",
   "execution_count": 5,
   "metadata": {},
   "outputs": [],
   "source": [
    "x_train, x_test, y_train, y_test = train_test_split(data.drop(columns=['tip_amount','pickup_longitude', 'pickup_latitude',\n",
    "       'dropoff_longitude', 'dropoff_latitude','pickup_datetime','dropoff_datetime','total_amount','mta_tax','tip_percent','tip_amount_binned']), data['tip_percent'], test_size=0.30, random_state=1)"
   ]
  },
  {
   "cell_type": "code",
   "execution_count": 6,
   "metadata": {},
   "outputs": [
    {
     "name": "stdout",
     "output_type": "stream",
     "text": [
      "The train score is 0.06278130205306531 and the test score is 0.06263373950604934\n",
      "\n",
      "\n",
      "vendor_id         -0.003192\n",
      "passenger_count    0.001381\n",
      "trip_distance      0.003472\n",
      "fare_amount       -0.050155\n",
      "surcharge         -0.084353\n",
      "tolls_amount       0.146439\n",
      "duration           0.000062\n",
      "Location           0.000238\n",
      "time_of_day        0.006526\n",
      "CRD                1.104272\n",
      "UNK                0.910968\n",
      "NOC               -1.639602\n",
      "DIS               -1.602210\n",
      "CSH                1.226572\n",
      "Intercept          1.915181\n",
      "dtype: float64\n"
     ]
    }
   ],
   "source": [
    "linreg = LinearRegression()\n",
    "linreg.fit(x_train, y_train)\n",
    "\n",
    "train_score = linreg.score(x_train, y_train)\n",
    "test_score = linreg.score(x_test, y_test)\n",
    "\n",
    "#y_pred= linreg.predict(x_test)\n",
    "\n",
    "print('The train score is {} and the test score is {}'.format(train_score, test_score))\n",
    "print('\\n')\n",
    "betas = pd.Series(linreg.coef_, index=x_train.columns)\n",
    "betas = betas.append(pd.Series({\"Intercept\": linreg.intercept_}))\n",
    "print(betas)"
   ]
  },
  {
   "cell_type": "markdown",
   "metadata": {},
   "source": [
    "## Check for multicollinearity"
   ]
  },
  {
   "cell_type": "code",
   "execution_count": 7,
   "metadata": {},
   "outputs": [
    {
     "data": {
      "text/html": [
       "<div>\n",
       "<style scoped>\n",
       "    .dataframe tbody tr th:only-of-type {\n",
       "        vertical-align: middle;\n",
       "    }\n",
       "\n",
       "    .dataframe tbody tr th {\n",
       "        vertical-align: top;\n",
       "    }\n",
       "\n",
       "    .dataframe thead th {\n",
       "        text-align: right;\n",
       "    }\n",
       "</style>\n",
       "<table border=\"1\" class=\"dataframe\">\n",
       "  <thead>\n",
       "    <tr style=\"text-align: right;\">\n",
       "      <th></th>\n",
       "      <th>vendor_id</th>\n",
       "      <th>passenger_count</th>\n",
       "      <th>trip_distance</th>\n",
       "      <th>fare_amount</th>\n",
       "      <th>surcharge</th>\n",
       "      <th>tolls_amount</th>\n",
       "      <th>duration</th>\n",
       "      <th>Location</th>\n",
       "      <th>time_of_day</th>\n",
       "      <th>CRD</th>\n",
       "      <th>UNK</th>\n",
       "      <th>NOC</th>\n",
       "      <th>DIS</th>\n",
       "      <th>CSH</th>\n",
       "    </tr>\n",
       "  </thead>\n",
       "  <tbody>\n",
       "    <tr>\n",
       "      <th>vendor_id</th>\n",
       "      <td>1.0</td>\n",
       "      <td>NaN</td>\n",
       "      <td>NaN</td>\n",
       "      <td>NaN</td>\n",
       "      <td>NaN</td>\n",
       "      <td>NaN</td>\n",
       "      <td>NaN</td>\n",
       "      <td>NaN</td>\n",
       "      <td>NaN</td>\n",
       "      <td>NaN</td>\n",
       "      <td>NaN</td>\n",
       "      <td>NaN</td>\n",
       "      <td>NaN</td>\n",
       "      <td>NaN</td>\n",
       "    </tr>\n",
       "    <tr>\n",
       "      <th>passenger_count</th>\n",
       "      <td>NaN</td>\n",
       "      <td>1.0</td>\n",
       "      <td>NaN</td>\n",
       "      <td>NaN</td>\n",
       "      <td>NaN</td>\n",
       "      <td>NaN</td>\n",
       "      <td>NaN</td>\n",
       "      <td>NaN</td>\n",
       "      <td>NaN</td>\n",
       "      <td>NaN</td>\n",
       "      <td>NaN</td>\n",
       "      <td>NaN</td>\n",
       "      <td>NaN</td>\n",
       "      <td>NaN</td>\n",
       "    </tr>\n",
       "    <tr>\n",
       "      <th>trip_distance</th>\n",
       "      <td>NaN</td>\n",
       "      <td>NaN</td>\n",
       "      <td>1.0</td>\n",
       "      <td>NaN</td>\n",
       "      <td>NaN</td>\n",
       "      <td>NaN</td>\n",
       "      <td>NaN</td>\n",
       "      <td>NaN</td>\n",
       "      <td>NaN</td>\n",
       "      <td>NaN</td>\n",
       "      <td>NaN</td>\n",
       "      <td>NaN</td>\n",
       "      <td>NaN</td>\n",
       "      <td>NaN</td>\n",
       "    </tr>\n",
       "    <tr>\n",
       "      <th>fare_amount</th>\n",
       "      <td>NaN</td>\n",
       "      <td>NaN</td>\n",
       "      <td>NaN</td>\n",
       "      <td>1.0</td>\n",
       "      <td>NaN</td>\n",
       "      <td>NaN</td>\n",
       "      <td>NaN</td>\n",
       "      <td>NaN</td>\n",
       "      <td>NaN</td>\n",
       "      <td>NaN</td>\n",
       "      <td>NaN</td>\n",
       "      <td>NaN</td>\n",
       "      <td>NaN</td>\n",
       "      <td>NaN</td>\n",
       "    </tr>\n",
       "    <tr>\n",
       "      <th>surcharge</th>\n",
       "      <td>NaN</td>\n",
       "      <td>NaN</td>\n",
       "      <td>NaN</td>\n",
       "      <td>NaN</td>\n",
       "      <td>1.0</td>\n",
       "      <td>NaN</td>\n",
       "      <td>NaN</td>\n",
       "      <td>NaN</td>\n",
       "      <td>NaN</td>\n",
       "      <td>NaN</td>\n",
       "      <td>NaN</td>\n",
       "      <td>NaN</td>\n",
       "      <td>NaN</td>\n",
       "      <td>NaN</td>\n",
       "    </tr>\n",
       "    <tr>\n",
       "      <th>tolls_amount</th>\n",
       "      <td>NaN</td>\n",
       "      <td>NaN</td>\n",
       "      <td>NaN</td>\n",
       "      <td>NaN</td>\n",
       "      <td>NaN</td>\n",
       "      <td>1.0</td>\n",
       "      <td>NaN</td>\n",
       "      <td>NaN</td>\n",
       "      <td>NaN</td>\n",
       "      <td>NaN</td>\n",
       "      <td>NaN</td>\n",
       "      <td>NaN</td>\n",
       "      <td>NaN</td>\n",
       "      <td>NaN</td>\n",
       "    </tr>\n",
       "    <tr>\n",
       "      <th>duration</th>\n",
       "      <td>NaN</td>\n",
       "      <td>NaN</td>\n",
       "      <td>NaN</td>\n",
       "      <td>NaN</td>\n",
       "      <td>NaN</td>\n",
       "      <td>NaN</td>\n",
       "      <td>1.0</td>\n",
       "      <td>NaN</td>\n",
       "      <td>NaN</td>\n",
       "      <td>NaN</td>\n",
       "      <td>NaN</td>\n",
       "      <td>NaN</td>\n",
       "      <td>NaN</td>\n",
       "      <td>NaN</td>\n",
       "    </tr>\n",
       "    <tr>\n",
       "      <th>Location</th>\n",
       "      <td>NaN</td>\n",
       "      <td>NaN</td>\n",
       "      <td>NaN</td>\n",
       "      <td>NaN</td>\n",
       "      <td>NaN</td>\n",
       "      <td>NaN</td>\n",
       "      <td>NaN</td>\n",
       "      <td>1.0</td>\n",
       "      <td>NaN</td>\n",
       "      <td>NaN</td>\n",
       "      <td>NaN</td>\n",
       "      <td>NaN</td>\n",
       "      <td>NaN</td>\n",
       "      <td>NaN</td>\n",
       "    </tr>\n",
       "    <tr>\n",
       "      <th>time_of_day</th>\n",
       "      <td>NaN</td>\n",
       "      <td>NaN</td>\n",
       "      <td>NaN</td>\n",
       "      <td>NaN</td>\n",
       "      <td>NaN</td>\n",
       "      <td>NaN</td>\n",
       "      <td>NaN</td>\n",
       "      <td>NaN</td>\n",
       "      <td>1.0</td>\n",
       "      <td>NaN</td>\n",
       "      <td>NaN</td>\n",
       "      <td>NaN</td>\n",
       "      <td>NaN</td>\n",
       "      <td>NaN</td>\n",
       "    </tr>\n",
       "    <tr>\n",
       "      <th>CRD</th>\n",
       "      <td>NaN</td>\n",
       "      <td>NaN</td>\n",
       "      <td>NaN</td>\n",
       "      <td>NaN</td>\n",
       "      <td>NaN</td>\n",
       "      <td>NaN</td>\n",
       "      <td>NaN</td>\n",
       "      <td>NaN</td>\n",
       "      <td>NaN</td>\n",
       "      <td>1.0</td>\n",
       "      <td>NaN</td>\n",
       "      <td>NaN</td>\n",
       "      <td>NaN</td>\n",
       "      <td>NaN</td>\n",
       "    </tr>\n",
       "    <tr>\n",
       "      <th>UNK</th>\n",
       "      <td>NaN</td>\n",
       "      <td>NaN</td>\n",
       "      <td>NaN</td>\n",
       "      <td>NaN</td>\n",
       "      <td>NaN</td>\n",
       "      <td>NaN</td>\n",
       "      <td>NaN</td>\n",
       "      <td>NaN</td>\n",
       "      <td>NaN</td>\n",
       "      <td>NaN</td>\n",
       "      <td>1.0</td>\n",
       "      <td>NaN</td>\n",
       "      <td>NaN</td>\n",
       "      <td>NaN</td>\n",
       "    </tr>\n",
       "    <tr>\n",
       "      <th>NOC</th>\n",
       "      <td>NaN</td>\n",
       "      <td>NaN</td>\n",
       "      <td>NaN</td>\n",
       "      <td>NaN</td>\n",
       "      <td>NaN</td>\n",
       "      <td>NaN</td>\n",
       "      <td>NaN</td>\n",
       "      <td>NaN</td>\n",
       "      <td>NaN</td>\n",
       "      <td>NaN</td>\n",
       "      <td>NaN</td>\n",
       "      <td>1.0</td>\n",
       "      <td>NaN</td>\n",
       "      <td>NaN</td>\n",
       "    </tr>\n",
       "    <tr>\n",
       "      <th>DIS</th>\n",
       "      <td>NaN</td>\n",
       "      <td>NaN</td>\n",
       "      <td>NaN</td>\n",
       "      <td>NaN</td>\n",
       "      <td>NaN</td>\n",
       "      <td>NaN</td>\n",
       "      <td>NaN</td>\n",
       "      <td>NaN</td>\n",
       "      <td>NaN</td>\n",
       "      <td>NaN</td>\n",
       "      <td>NaN</td>\n",
       "      <td>NaN</td>\n",
       "      <td>1.0</td>\n",
       "      <td>NaN</td>\n",
       "    </tr>\n",
       "    <tr>\n",
       "      <th>CSH</th>\n",
       "      <td>NaN</td>\n",
       "      <td>NaN</td>\n",
       "      <td>NaN</td>\n",
       "      <td>NaN</td>\n",
       "      <td>NaN</td>\n",
       "      <td>NaN</td>\n",
       "      <td>NaN</td>\n",
       "      <td>NaN</td>\n",
       "      <td>NaN</td>\n",
       "      <td>NaN</td>\n",
       "      <td>NaN</td>\n",
       "      <td>NaN</td>\n",
       "      <td>NaN</td>\n",
       "      <td>1.0</td>\n",
       "    </tr>\n",
       "  </tbody>\n",
       "</table>\n",
       "</div>"
      ],
      "text/plain": [
       "                 vendor_id  passenger_count  trip_distance  fare_amount  \\\n",
       "vendor_id              1.0              NaN            NaN          NaN   \n",
       "passenger_count        NaN              1.0            NaN          NaN   \n",
       "trip_distance          NaN              NaN            1.0          NaN   \n",
       "fare_amount            NaN              NaN            NaN          1.0   \n",
       "surcharge              NaN              NaN            NaN          NaN   \n",
       "tolls_amount           NaN              NaN            NaN          NaN   \n",
       "duration               NaN              NaN            NaN          NaN   \n",
       "Location               NaN              NaN            NaN          NaN   \n",
       "time_of_day            NaN              NaN            NaN          NaN   \n",
       "CRD                    NaN              NaN            NaN          NaN   \n",
       "UNK                    NaN              NaN            NaN          NaN   \n",
       "NOC                    NaN              NaN            NaN          NaN   \n",
       "DIS                    NaN              NaN            NaN          NaN   \n",
       "CSH                    NaN              NaN            NaN          NaN   \n",
       "\n",
       "                 surcharge  tolls_amount  duration  Location  time_of_day  \\\n",
       "vendor_id              NaN           NaN       NaN       NaN          NaN   \n",
       "passenger_count        NaN           NaN       NaN       NaN          NaN   \n",
       "trip_distance          NaN           NaN       NaN       NaN          NaN   \n",
       "fare_amount            NaN           NaN       NaN       NaN          NaN   \n",
       "surcharge              1.0           NaN       NaN       NaN          NaN   \n",
       "tolls_amount           NaN           1.0       NaN       NaN          NaN   \n",
       "duration               NaN           NaN       1.0       NaN          NaN   \n",
       "Location               NaN           NaN       NaN       1.0          NaN   \n",
       "time_of_day            NaN           NaN       NaN       NaN          1.0   \n",
       "CRD                    NaN           NaN       NaN       NaN          NaN   \n",
       "UNK                    NaN           NaN       NaN       NaN          NaN   \n",
       "NOC                    NaN           NaN       NaN       NaN          NaN   \n",
       "DIS                    NaN           NaN       NaN       NaN          NaN   \n",
       "CSH                    NaN           NaN       NaN       NaN          NaN   \n",
       "\n",
       "                 CRD  UNK  NOC  DIS  CSH  \n",
       "vendor_id        NaN  NaN  NaN  NaN  NaN  \n",
       "passenger_count  NaN  NaN  NaN  NaN  NaN  \n",
       "trip_distance    NaN  NaN  NaN  NaN  NaN  \n",
       "fare_amount      NaN  NaN  NaN  NaN  NaN  \n",
       "surcharge        NaN  NaN  NaN  NaN  NaN  \n",
       "tolls_amount     NaN  NaN  NaN  NaN  NaN  \n",
       "duration         NaN  NaN  NaN  NaN  NaN  \n",
       "Location         NaN  NaN  NaN  NaN  NaN  \n",
       "time_of_day      NaN  NaN  NaN  NaN  NaN  \n",
       "CRD              1.0  NaN  NaN  NaN  NaN  \n",
       "UNK              NaN  1.0  NaN  NaN  NaN  \n",
       "NOC              NaN  NaN  1.0  NaN  NaN  \n",
       "DIS              NaN  NaN  NaN  1.0  NaN  \n",
       "CSH              NaN  NaN  NaN  NaN  1.0  "
      ]
     },
     "execution_count": 7,
     "metadata": {},
     "output_type": "execute_result"
    },
    {
     "data": {
      "image/png": "[encoded data removed]",
      "text/plain": [
       "<Figure size 432x288 with 2 Axes>"
      ]
     },
     "metadata": {
      "needs_background": "light"
     },
     "output_type": "display_data"
    }
   ],
   "source": [
    "sns.heatmap(x_train.corr())\n",
    "x_train.corr()[x_train.corr().abs() > 0.99]"
   ]
  },
  {
   "cell_type": "code",
   "execution_count": 8,
   "metadata": {},
   "outputs": [
    {
     "name": "stdout",
     "output_type": "stream",
     "text": [
      "fare_amount        2\n",
      "UNK                1\n",
      "CRD                1\n",
      "duration           1\n",
      "trip_distance      1\n",
      "CSH                0\n",
      "DIS                0\n",
      "NOC                0\n",
      "time_of_day        0\n",
      "Location           0\n",
      "tolls_amount       0\n",
      "surcharge          0\n",
      "passenger_count    0\n",
      "vendor_id          0\n",
      "dtype: int64\n"
     ]
    }
   ],
   "source": [
    "def print_heavily_correlated_features(df, threshold=0.7):\n",
    "  corr = df.corr().abs()\n",
    "  corr = corr[corr > threshold]\n",
    "  print(corr.count().sort_values(ascending=False) - 1)\n",
    "\n",
    "print_heavily_correlated_features(x_train, 0.7)"
   ]
  },
  {
   "cell_type": "markdown",
   "metadata": {},
   "source": [
    "## Lasso Regression"
   ]
  },
  {
   "cell_type": "code",
   "execution_count": 9,
   "metadata": {},
   "outputs": [
    {
     "name": "stderr",
     "output_type": "stream",
     "text": [
      "C:\\ProgramData\\Anaconda3\\lib\\site-packages\\sklearn\\model_selection\\_split.py:2053: FutureWarning: You should specify a value for 'cv' instead of relying on the default value. The default value will change from 3 to 5 in version 0.22.\n",
      "  warnings.warn(CV_WARNING, FutureWarning)\n"
     ]
    },
    {
     "name": "stdout",
     "output_type": "stream",
     "text": [
      "The train score is 0.023608911384644715 and the test score is 0.023734275197015764\n",
      "\n",
      "\n",
      "vendor_id          0.000000\n",
      "passenger_count    0.000000\n",
      "trip_distance     -0.000000\n",
      "fare_amount       -0.021349\n",
      "surcharge         -0.000000\n",
      "tolls_amount      -0.000000\n",
      "duration          -0.000186\n",
      "Location          -0.000000\n",
      "time_of_day       -0.000000\n",
      "CRD                0.000000\n",
      "UNK               -0.000000\n",
      "NOC               -0.000000\n",
      "DIS               -0.000000\n",
      "CSH                0.000000\n",
      "Intercept          2.897565\n",
      "dtype: float64\n"
     ]
    }
   ],
   "source": [
    "# Fit the model\n",
    "lasso = LassoCV()\n",
    "lasso.fit(x_train, y_train)\n",
    "\n",
    "# calculate the score\n",
    "train_score = lasso.score(x_train, y_train)\n",
    "test_score = lasso.score(x_test, y_test)\n",
    "\n",
    "#y_pred= lasso.predict(x_test)\n",
    "\n",
    "print('The train score is {} and the test score is {}'.format(train_score, test_score)) \n",
    "\n",
    "# calculate betas\n",
    "print('\\n')\n",
    "betas = pd.Series(lasso.coef_, index= x_train.columns)\n",
    "betas = betas.append(pd.Series({\"Intercept\": lasso.intercept_}))\n",
    "print(betas)"
   ]
  },
  {
   "cell_type": "markdown",
   "metadata": {},
   "source": [
    "## Ridge "
   ]
  },
  {
   "cell_type": "code",
   "execution_count": 11,
   "metadata": {},
   "outputs": [
    {
     "name": "stdout",
     "output_type": "stream",
     "text": [
      "The train score is 0.06278064693245333 and the test score is 0.06263342549617568\n"
     ]
    }
   ],
   "source": [
    "# Fit the model\n",
    "ridge = RidgeCV()\n",
    "ridge.fit(x_train, y_train)\n",
    "\n",
    "# calculate the score\n",
    "train_score = ridge.score(x_train, y_train)\n",
    "test_score = ridge.score(x_test, y_test)\n",
    "\n",
    "print('The train score is {} and the test score is {}'.format(train_score, test_score)) "
   ]
  },
  {
   "cell_type": "markdown",
   "metadata": {},
   "source": [
    "## Logistic Regression"
   ]
  },
  {
   "cell_type": "code",
   "execution_count": 12,
   "metadata": {},
   "outputs": [
    {
     "name": "stderr",
     "output_type": "stream",
     "text": [
      "C:\\ProgramData\\Anaconda3\\lib\\site-packages\\sklearn\\linear_model\\logistic.py:433: FutureWarning: Default solver will be changed to 'lbfgs' in 0.22. Specify a solver to silence this warning.\n",
      "  FutureWarning)\n",
      "C:\\ProgramData\\Anaconda3\\lib\\site-packages\\sklearn\\linear_model\\logistic.py:460: FutureWarning: Default multi_class will be changed to 'auto' in 0.22. Specify the multi_class option to silence this warning.\n",
      "  \"this warning.\", FutureWarning)\n"
     ]
    },
    {
     "data": {
      "text/plain": [
       "LogisticRegression(C=1.0, class_weight=None, dual=False, fit_intercept=True,\n",
       "          intercept_scaling=1, max_iter=100, multi_class='warn',\n",
       "          n_jobs=None, penalty='l2', random_state=None, solver='warn',\n",
       "          tol=0.0001, verbose=0, warm_start=False)"
      ]
     },
     "execution_count": 12,
     "metadata": {},
     "output_type": "execute_result"
    }
   ],
   "source": [
    "# Fit the model\n",
    "logreg = LogisticRegression()\n",
    "logreg.fit(x_train, y_train)"
   ]
  },
  {
   "cell_type": "code",
   "execution_count": 13,
   "metadata": {},
   "outputs": [
    {
     "name": "stdout",
     "output_type": "stream",
     "text": [
      "The train score is 0.6312128441449042 and the test score is 0.6316423373045311\n"
     ]
    }
   ],
   "source": [
    "# calculate the score\n",
    "train_score = logreg.score(x_train, y_train)\n",
    "test_score = logreg.score(x_test, y_test)\n",
    "print('The train score is {} and the test score is {}'.format(train_score, test_score))"
   ]
  },
  {
   "cell_type": "code",
   "execution_count": null,
   "metadata": {},
   "outputs": [],
   "source": [
    "## Switch back to L1 regularization instead of L2 which is automatic "
   ]
  },
  {
   "cell_type": "code",
   "execution_count": 14,
   "metadata": {},
   "outputs": [
    {
     "name": "stderr",
     "output_type": "stream",
     "text": [
      "C:\\ProgramData\\Anaconda3\\lib\\site-packages\\sklearn\\linear_model\\logistic.py:433: FutureWarning: Default solver will be changed to 'lbfgs' in 0.22. Specify a solver to silence this warning.\n",
      "  FutureWarning)\n",
      "C:\\ProgramData\\Anaconda3\\lib\\site-packages\\sklearn\\linear_model\\logistic.py:460: FutureWarning: Default multi_class will be changed to 'auto' in 0.22. Specify the multi_class option to silence this warning.\n",
      "  \"this warning.\", FutureWarning)\n"
     ]
    },
    {
     "data": {
      "text/plain": [
       "LogisticRegression(C=1.0, class_weight=None, dual=False, fit_intercept=True,\n",
       "          intercept_scaling=1, max_iter=100, multi_class='warn',\n",
       "          n_jobs=None, penalty='l1', random_state=None, solver='warn',\n",
       "          tol=0.0001, verbose=0, warm_start=False)"
      ]
     },
     "execution_count": 14,
     "metadata": {},
     "output_type": "execute_result"
    }
   ],
   "source": [
    "logregl1 = LogisticRegression(penalty='l1')\n",
    "logregl1.fit(x_train, y_train)"
   ]
  },
  {
   "cell_type": "code",
   "execution_count": 17,
   "metadata": {},
   "outputs": [
    {
     "name": "stdout",
     "output_type": "stream",
     "text": [
      "The train score is 0.6312337348778839 and the test score is 0.6316626477393724\n"
     ]
    }
   ],
   "source": [
    "# calculate the score\n",
    "train_score = logregl1.score(x_train, y_train)\n",
    "test_score = logregl1.score(x_test, y_test)\n",
    "print('The train score is {} and the test score is {}'.format(train_score, test_score))"
   ]
  },
  {
   "cell_type": "code",
   "execution_count": null,
   "metadata": {},
   "outputs": [],
   "source": [
    "##Still using L1 but using a different solver "
   ]
  },
  {
   "cell_type": "code",
   "execution_count": null,
   "metadata": {},
   "outputs": [],
   "source": [
    "# Fit the model\n",
    "logregcv = LogisticRegressionCV(penalty='l1', solver='saga')\n",
    "logregcv.fit(x_train, y_train)"
   ]
  },
  {
   "cell_type": "code",
   "execution_count": null,
   "metadata": {},
   "outputs": [],
   "source": [
    "# calculate the score\n",
    "train_score = logregcv.score(x_train, y_train)\n",
    "test_score = logregcv.score(x_test, y_test)\n",
    "print('The train score is {} and the test score is {}'.format(train_score, test_score))"
   ]
  },
  {
   "cell_type": "code",
   "execution_count": null,
   "metadata": {},
   "outputs": [],
   "source": [
    "y_pred = logregcv.predict(X_test)\n",
    "cfm = confusion_matrix(y_true=y_test, y_pred=y_pred)\n",
    "ax = sns.heatmap(cfm, annot=True)\n",
    "ax.set(xlabel='Predicted', ylabel='Actual');"
   ]
  },
  {
   "cell_type": "code",
   "execution_count": null,
   "metadata": {},
   "outputs": [],
   "source": []
  },
  {
   "cell_type": "code",
   "execution_count": null,
   "metadata": {},
   "outputs": [],
   "source": []
  },
  {
   "cell_type": "code",
   "execution_count": null,
   "metadata": {},
   "outputs": [],
   "source": []
  },
  {
   "cell_type": "markdown",
   "metadata": {},
   "source": [
    "## Classification Error"
   ]
  },
  {
   "cell_type": "code",
   "execution_count": null,
   "metadata": {},
   "outputs": [],
   "source": [
    "from sklearn.metrics import confusion_matrix\n",
    "\n",
    "y_pred = logregl1.predict(X_test)\n",
    "cfm = confusion_matrix(y_true=y_test, y_pred=y_pred)\n",
    "ax = sns.heatmap(cfm, annot=True)\n",
    "ax.set(xlabel='Predicted', ylabel='Actual');"
   ]
  },
  {
   "cell_type": "code",
   "execution_count": null,
   "metadata": {},
   "outputs": [],
   "source": [
    "recall = cfm[1,1] / (cfm[1,0] + cfm[1,1])\n",
    "precision = cfm[1, 1] / (cfm[0, 1] + cfm[1, 1])\n",
    "print('The recall is {} and the precision is {}'.format(recall, precision))"
   ]
  },
  {
   "cell_type": "code",
   "execution_count": null,
   "metadata": {},
   "outputs": [],
   "source": []
  },
  {
   "cell_type": "code",
   "execution_count": null,
   "metadata": {},
   "outputs": [],
   "source": []
  },
  {
   "cell_type": "code",
   "execution_count": null,
   "metadata": {},
   "outputs": [],
   "source": []
  },
  {
   "cell_type": "code",
   "execution_count": null,
   "metadata": {},
   "outputs": [],
   "source": []
  },
  {
   "cell_type": "code",
   "execution_count": null,
   "metadata": {},
   "outputs": [],
   "source": []
  },
  {
   "cell_type": "code",
   "execution_count": 129,
   "metadata": {},
   "outputs": [
    {
     "name": "stdout",
     "output_type": "stream",
     "text": [
      "Mean Absolute Error: 0.45355278300531926\n",
      "Mean Squared Error: 0.4167062107945469\n",
      "Root Mean Squared Error: 0.6455278543909216\n",
      "The train score is 0.40171923408195875 and the test score is 0.4018854857377855\n"
     ]
    }
   ],
   "source": [
    "from sklearn import metrics\n",
    "\n",
    "cart_model = DecisionTreeRegressor(max_depth=5, random_state=1)\n",
    "cart_model.fit(x_train, y_train)\n",
    "y_pred= cart_model.predict(x_test)\n",
    "\n",
    "train_score = cart_model.score(x_train, y_train)\n",
    "test_score = cart_model.score(x_test, y_test)\n",
    "\n",
    "#y_pred= cart_model.predict(x_test)\n",
    "\n",
    "#print('On the validation set, the precision is {} and recall is {}'.format(pre, rec))\n",
    "print('Mean Absolute Error:', metrics.mean_absolute_error(y_test, y_pred))\n",
    "print('Mean Squared Error:', metrics.mean_squared_error(y_test, y_pred))\n",
    "print('Root Mean Squared Error:', np.sqrt(metrics.mean_squared_error(y_test, y_pred)))\n",
    "print('The train score is {} and the test score is {}'.format(train_score, test_score))"
   ]
  },
  {
   "cell_type": "code",
   "execution_count": null,
   "metadata": {},
   "outputs": [],
   "source": [
    "#pre = precision_score(y_test, y_pred) # since the dataset is imbalanced\n",
    "#rec = recall_score(y_test, y_pred)\n",
    "\n",
    "#print('The pre score is {} and the recall score is {}'.format(pre, recall))\n"
   ]
  },
  {
   "cell_type": "code",
   "execution_count": 130,
   "metadata": {},
   "outputs": [],
   "source": [
    "all_models['cart_model'] = (train_score, test_score, cart_model, 'runs on x_train')"
   ]
  },
  {
   "cell_type": "code",
   "execution_count": null,
   "metadata": {},
   "outputs": [],
   "source": [
    "#pre = precision_score(y_test, y_pred) # since the dataset is imbalanced\n",
    "#rec = recall_score(y_test, y_pred)\n",
    "\n",
    "#print('The pre score is {} and the recall score is {}'.format(pre, recall))"
   ]
  },
  {
   "cell_type": "code",
   "execution_count": 132,
   "metadata": {},
   "outputs": [],
   "source": [
    "all_models['lasso'] = (train_score, test_score, lasso, 'runs on x_train')"
   ]
  },
  {
   "cell_type": "code",
   "execution_count": null,
   "metadata": {},
   "outputs": [],
   "source": [
    "# Visualize the decision tree\n",
    "cart_graph = Source(export_graphviz(cart_model,\n",
    "                   feature_names = df.columns[1:],\n",
    "                   rounded = True, proportion = False, \n",
    "                  filled = True))\n",
    "SVG(cart_graph.pipe(format='svg'))"
   ]
  },
  {
   "cell_type": "code",
   "execution_count": 9,
   "metadata": {},
   "outputs": [
    {
     "name": "stderr",
     "output_type": "stream",
     "text": [
      "C:\\ProgramData\\Anaconda3\\lib\\site-packages\\sklearn\\ensemble\\forest.py:246: FutureWarning: The default value of n_estimators will change from 10 in version 0.20 to 100 in 0.22.\n",
      "  \"10 in version 0.20 to 100 in 0.22.\", FutureWarning)\n"
     ]
    },
    {
     "ename": "NameError",
     "evalue": "name 'metrics' is not defined",
     "output_type": "error",
     "traceback": [
      "\u001b[1;31m---------------------------------------------------------------------------\u001b[0m",
      "\u001b[1;31mNameError\u001b[0m                                 Traceback (most recent call last)",
      "\u001b[1;32m<ipython-input-9-ebd8b46708bb>\u001b[0m in \u001b[0;36m<module>\u001b[1;34m\u001b[0m\n\u001b[0;32m      9\u001b[0m \u001b[0mtest_score\u001b[0m \u001b[1;33m=\u001b[0m \u001b[0mrfc_model\u001b[0m\u001b[1;33m.\u001b[0m\u001b[0mscore\u001b[0m\u001b[1;33m(\u001b[0m\u001b[0mx_test\u001b[0m\u001b[1;33m,\u001b[0m \u001b[0my_test\u001b[0m\u001b[1;33m)\u001b[0m\u001b[1;33m\u001b[0m\u001b[1;33m\u001b[0m\u001b[0m\n\u001b[0;32m     10\u001b[0m \u001b[1;33m\u001b[0m\u001b[0m\n\u001b[1;32m---> 11\u001b[1;33m \u001b[0mprint\u001b[0m\u001b[1;33m(\u001b[0m\u001b[1;34m'Mean Absolute Error:'\u001b[0m\u001b[1;33m,\u001b[0m \u001b[0mmetrics\u001b[0m\u001b[1;33m.\u001b[0m\u001b[0mmean_absolute_error\u001b[0m\u001b[1;33m(\u001b[0m\u001b[0my_test\u001b[0m\u001b[1;33m,\u001b[0m \u001b[0my_pred\u001b[0m\u001b[1;33m)\u001b[0m\u001b[1;33m)\u001b[0m\u001b[1;33m\u001b[0m\u001b[1;33m\u001b[0m\u001b[0m\n\u001b[0m\u001b[0;32m     12\u001b[0m \u001b[0mprint\u001b[0m\u001b[1;33m(\u001b[0m\u001b[1;34m'Mean Squared Error:'\u001b[0m\u001b[1;33m,\u001b[0m \u001b[0mmetrics\u001b[0m\u001b[1;33m.\u001b[0m\u001b[0mmean_squared_error\u001b[0m\u001b[1;33m(\u001b[0m\u001b[0my_test\u001b[0m\u001b[1;33m,\u001b[0m \u001b[0my_pred\u001b[0m\u001b[1;33m)\u001b[0m\u001b[1;33m)\u001b[0m\u001b[1;33m\u001b[0m\u001b[1;33m\u001b[0m\u001b[0m\n\u001b[0;32m     13\u001b[0m \u001b[0mprint\u001b[0m\u001b[1;33m(\u001b[0m\u001b[1;34m'Root Mean Squared Error:'\u001b[0m\u001b[1;33m,\u001b[0m \u001b[0mnp\u001b[0m\u001b[1;33m.\u001b[0m\u001b[0msqrt\u001b[0m\u001b[1;33m(\u001b[0m\u001b[0mmetrics\u001b[0m\u001b[1;33m.\u001b[0m\u001b[0mmean_squared_error\u001b[0m\u001b[1;33m(\u001b[0m\u001b[0my_test\u001b[0m\u001b[1;33m,\u001b[0m \u001b[0my_pred\u001b[0m\u001b[1;33m)\u001b[0m\u001b[1;33m)\u001b[0m\u001b[1;33m)\u001b[0m\u001b[1;33m\u001b[0m\u001b[1;33m\u001b[0m\u001b[0m\n",
      "\u001b[1;31mNameError\u001b[0m: name 'metrics' is not defined"
     ]
    }
   ],
   "source": [
    "from sklearn.ensemble import RandomForestRegressor\n",
    "\n",
    "# Train the CART model\n",
    "rfc_model = RandomForestRegressor(max_depth=5,random_state=1)\n",
    "rfc_model.fit(x_train, y_train)\n",
    "y_pred= rfc_model.predict(x_test)\n",
    "\n",
    "train_score = rfc_model.score(x_train, y_train)\n",
    "test_score = rfc_model.score(x_test, y_test)\n",
    "\n",
    "print('Mean Absolute Error:', metrics.mean_absolute_error(y_test, y_pred))\n",
    "print('Mean Squared Error:', metrics.mean_squared_error(y_test, y_pred))\n",
    "print('Root Mean Squared Error:', np.sqrt(metrics.mean_squared_error(y_test, y_pred)))\n",
    "print('The train score is {} and the test score is {}'.format(train_score, test_score)) \n"
   ]
  },
  {
   "cell_type": "code",
   "execution_count": null,
   "metadata": {},
   "outputs": [],
   "source": [
    "#pre = precision_score(y_test, y_pred) # since the dataset is imbalanced\n",
    "#rec = recall_score(y_test, y_pred)\n",
    "\n",
    "#print('The pre score is {} and the recall score is {}'.format(pre, recall))"
   ]
  },
  {
   "cell_type": "code",
   "execution_count": 134,
   "metadata": {},
   "outputs": [],
   "source": [
    "all_models['rfc'] = (train_score, test_score, rfc_model, 'runs on x_train')"
   ]
  },
  {
   "cell_type": "markdown",
   "metadata": {},
   "source": [
    "## Feature Engineering"
   ]
  },
  {
   "cell_type": "code",
   "execution_count": null,
   "metadata": {},
   "outputs": [],
   "source": [
    "from sklearn.metrics import confusion_matrix\n",
    "\n",
    "y_pred = rfc_model.predict(x_test)\n",
    "cfm = confusion_matrix(y_true=y_test, y_pred=y_pred)\n",
    "ax = sns.heatmap(cfm, annot=True)\n",
    "ax.set(xlabel='Predicted', ylabel='Actual');"
   ]
  },
  {
   "cell_type": "code",
   "execution_count": null,
   "metadata": {},
   "outputs": [],
   "source": []
  },
  {
   "cell_type": "code",
   "execution_count": null,
   "metadata": {},
   "outputs": [],
   "source": []
  },
  {
   "cell_type": "code",
   "execution_count": null,
   "metadata": {},
   "outputs": [],
   "source": []
  },
  {
   "cell_type": "code",
   "execution_count": null,
   "metadata": {},
   "outputs": [],
   "source": []
  },
  {
   "cell_type": "code",
   "execution_count": 135,
   "metadata": {},
   "outputs": [
    {
     "data": {
      "text/plain": [
       "Index(['vendor_id', 'pickup_datetime', 'dropoff_datetime', 'passenger_count',\n",
       "       'trip_distance', 'pickup_longitude', 'pickup_latitude',\n",
       "       'dropoff_longitude', 'dropoff_latitude', 'fare_amount', 'surcharge',\n",
       "       'mta_tax', 'tip_amount', 'tolls_amount', 'total_amount', 'duration',\n",
       "       'Location', 'time_of_day', 'CRD', 'UNK', 'NOC', 'DIS', 'CSH'],\n",
       "      dtype='object')"
      ]
     },
     "execution_count": 135,
     "metadata": {},
     "output_type": "execute_result"
    }
   ],
   "source": [
    "data.columns"
   ]
  },
  {
   "cell_type": "code",
   "execution_count": 136,
   "metadata": {},
   "outputs": [
    {
     "data": {
      "text/html": [
       "<div>\n",
       "<style scoped>\n",
       "    .dataframe tbody tr th:only-of-type {\n",
       "        vertical-align: middle;\n",
       "    }\n",
       "\n",
       "    .dataframe tbody tr th {\n",
       "        vertical-align: top;\n",
       "    }\n",
       "\n",
       "    .dataframe thead th {\n",
       "        text-align: right;\n",
       "    }\n",
       "</style>\n",
       "<table border=\"1\" class=\"dataframe\">\n",
       "  <thead>\n",
       "    <tr style=\"text-align: right;\">\n",
       "      <th></th>\n",
       "      <th>vendor_id</th>\n",
       "      <th>pickup_datetime</th>\n",
       "      <th>dropoff_datetime</th>\n",
       "      <th>passenger_count</th>\n",
       "      <th>trip_distance</th>\n",
       "      <th>pickup_longitude</th>\n",
       "      <th>pickup_latitude</th>\n",
       "      <th>dropoff_longitude</th>\n",
       "      <th>dropoff_latitude</th>\n",
       "      <th>fare_amount</th>\n",
       "      <th>...</th>\n",
       "      <th>tolls_amount</th>\n",
       "      <th>total_amount</th>\n",
       "      <th>duration</th>\n",
       "      <th>Location</th>\n",
       "      <th>time_of_day</th>\n",
       "      <th>CRD</th>\n",
       "      <th>UNK</th>\n",
       "      <th>NOC</th>\n",
       "      <th>DIS</th>\n",
       "      <th>CSH</th>\n",
       "    </tr>\n",
       "  </thead>\n",
       "  <tbody>\n",
       "    <tr>\n",
       "      <th>0</th>\n",
       "      <td>1</td>\n",
       "      <td>2014-01-09 20:45:25</td>\n",
       "      <td>2014-01-09 20:52:31</td>\n",
       "      <td>1</td>\n",
       "      <td>0.7</td>\n",
       "      <td>-73.994770</td>\n",
       "      <td>40.736828</td>\n",
       "      <td>-73.982227</td>\n",
       "      <td>40.731790</td>\n",
       "      <td>6.5</td>\n",
       "      <td>...</td>\n",
       "      <td>0.0</td>\n",
       "      <td>8.90</td>\n",
       "      <td>426</td>\n",
       "      <td>5</td>\n",
       "      <td>4</td>\n",
       "      <td>1</td>\n",
       "      <td>0</td>\n",
       "      <td>0</td>\n",
       "      <td>0</td>\n",
       "      <td>0</td>\n",
       "    </tr>\n",
       "    <tr>\n",
       "      <th>1</th>\n",
       "      <td>1</td>\n",
       "      <td>2014-01-09 20:46:12</td>\n",
       "      <td>2014-01-09 20:55:12</td>\n",
       "      <td>1</td>\n",
       "      <td>1.4</td>\n",
       "      <td>-73.982392</td>\n",
       "      <td>40.773382</td>\n",
       "      <td>-73.960449</td>\n",
       "      <td>40.763995</td>\n",
       "      <td>8.5</td>\n",
       "      <td>...</td>\n",
       "      <td>0.0</td>\n",
       "      <td>11.40</td>\n",
       "      <td>540</td>\n",
       "      <td>4</td>\n",
       "      <td>4</td>\n",
       "      <td>1</td>\n",
       "      <td>0</td>\n",
       "      <td>0</td>\n",
       "      <td>0</td>\n",
       "      <td>0</td>\n",
       "    </tr>\n",
       "    <tr>\n",
       "      <th>2</th>\n",
       "      <td>1</td>\n",
       "      <td>2014-01-09 20:44:47</td>\n",
       "      <td>2014-01-09 20:59:46</td>\n",
       "      <td>2</td>\n",
       "      <td>2.3</td>\n",
       "      <td>-73.988570</td>\n",
       "      <td>40.739406</td>\n",
       "      <td>-73.986626</td>\n",
       "      <td>40.765217</td>\n",
       "      <td>11.5</td>\n",
       "      <td>...</td>\n",
       "      <td>0.0</td>\n",
       "      <td>14.00</td>\n",
       "      <td>899</td>\n",
       "      <td>5</td>\n",
       "      <td>4</td>\n",
       "      <td>1</td>\n",
       "      <td>0</td>\n",
       "      <td>0</td>\n",
       "      <td>0</td>\n",
       "      <td>0</td>\n",
       "    </tr>\n",
       "    <tr>\n",
       "      <th>3</th>\n",
       "      <td>1</td>\n",
       "      <td>2014-01-09 20:44:57</td>\n",
       "      <td>2014-01-09 20:51:40</td>\n",
       "      <td>1</td>\n",
       "      <td>1.7</td>\n",
       "      <td>-73.960213</td>\n",
       "      <td>40.770464</td>\n",
       "      <td>-73.979863</td>\n",
       "      <td>40.777050</td>\n",
       "      <td>7.5</td>\n",
       "      <td>...</td>\n",
       "      <td>0.0</td>\n",
       "      <td>10.20</td>\n",
       "      <td>403</td>\n",
       "      <td>5</td>\n",
       "      <td>4</td>\n",
       "      <td>1</td>\n",
       "      <td>0</td>\n",
       "      <td>0</td>\n",
       "      <td>0</td>\n",
       "      <td>0</td>\n",
       "    </tr>\n",
       "    <tr>\n",
       "      <th>4</th>\n",
       "      <td>1</td>\n",
       "      <td>2014-01-09 20:47:09</td>\n",
       "      <td>2014-01-09 20:53:32</td>\n",
       "      <td>1</td>\n",
       "      <td>0.9</td>\n",
       "      <td>-73.995371</td>\n",
       "      <td>40.717248</td>\n",
       "      <td>-73.984367</td>\n",
       "      <td>40.720524</td>\n",
       "      <td>6.0</td>\n",
       "      <td>...</td>\n",
       "      <td>0.0</td>\n",
       "      <td>8.75</td>\n",
       "      <td>383</td>\n",
       "      <td>5</td>\n",
       "      <td>4</td>\n",
       "      <td>1</td>\n",
       "      <td>0</td>\n",
       "      <td>0</td>\n",
       "      <td>0</td>\n",
       "      <td>0</td>\n",
       "    </tr>\n",
       "  </tbody>\n",
       "</table>\n",
       "<p>5 rows × 23 columns</p>\n",
       "</div>"
      ],
      "text/plain": [
       "   vendor_id      pickup_datetime     dropoff_datetime  passenger_count  \\\n",
       "0          1  2014-01-09 20:45:25  2014-01-09 20:52:31                1   \n",
       "1          1  2014-01-09 20:46:12  2014-01-09 20:55:12                1   \n",
       "2          1  2014-01-09 20:44:47  2014-01-09 20:59:46                2   \n",
       "3          1  2014-01-09 20:44:57  2014-01-09 20:51:40                1   \n",
       "4          1  2014-01-09 20:47:09  2014-01-09 20:53:32                1   \n",
       "\n",
       "   trip_distance  pickup_longitude  pickup_latitude  dropoff_longitude  \\\n",
       "0            0.7        -73.994770        40.736828         -73.982227   \n",
       "1            1.4        -73.982392        40.773382         -73.960449   \n",
       "2            2.3        -73.988570        40.739406         -73.986626   \n",
       "3            1.7        -73.960213        40.770464         -73.979863   \n",
       "4            0.9        -73.995371        40.717248         -73.984367   \n",
       "\n",
       "   dropoff_latitude  fare_amount  ...  tolls_amount  total_amount  duration  \\\n",
       "0         40.731790          6.5  ...           0.0          8.90       426   \n",
       "1         40.763995          8.5  ...           0.0         11.40       540   \n",
       "2         40.765217         11.5  ...           0.0         14.00       899   \n",
       "3         40.777050          7.5  ...           0.0         10.20       403   \n",
       "4         40.720524          6.0  ...           0.0          8.75       383   \n",
       "\n",
       "   Location  time_of_day  CRD  UNK  NOC  DIS  CSH  \n",
       "0         5            4    1    0    0    0    0  \n",
       "1         4            4    1    0    0    0    0  \n",
       "2         5            4    1    0    0    0    0  \n",
       "3         5            4    1    0    0    0    0  \n",
       "4         5            4    1    0    0    0    0  \n",
       "\n",
       "[5 rows x 23 columns]"
      ]
     },
     "execution_count": 136,
     "metadata": {},
     "output_type": "execute_result"
    }
   ],
   "source": [
    "data.head()"
   ]
  },
  {
   "cell_type": "code",
   "execution_count": 137,
   "metadata": {},
   "outputs": [],
   "source": [
    "cont = [\"passenger_count\",\"tip_distance\",\"fare_amount\",\"surcharge\",\"tolls_amount\",\"duration\"]"
   ]
  },
  {
   "cell_type": "code",
   "execution_count": 145,
   "metadata": {},
   "outputs": [
    {
     "data": {
      "text/plain": [
       "vendor_id         -0.031161\n",
       "passenger_count   -0.003495\n",
       "trip_distance      0.551027\n",
       "fare_amount        0.624147\n",
       "surcharge          0.048372\n",
       "tolls_amount      -0.000341\n",
       "duration           0.569341\n",
       "Location          -0.020564\n",
       "time_of_day        0.025375\n",
       "CRD                0.085818\n",
       "UNK               -0.008303\n",
       "NOC               -0.119688\n",
       "DIS               -0.063635\n",
       "CSH                0.001348\n",
       "Name: tip_amount, dtype: float64"
      ]
     },
     "execution_count": 145,
     "metadata": {},
     "output_type": "execute_result"
    }
   ],
   "source": [
    "base_corrs = data.corr().tip_amount.drop(index=['tip_amount','mta_tax',\"pickup_longitude\",\n",
    "                        \"pickup_latitude\",\"dropoff_longitude\",\"dropoff_latitude\",\"total_amount\"])\n",
    "base_corrs"
   ]
  },
  {
   "cell_type": "code",
   "execution_count": 154,
   "metadata": {},
   "outputs": [
    {
     "name": "stdout",
     "output_type": "stream",
     "text": [
      "vendor_id time_of_day combine to get correlation 0.047 compared to 0.031 0.025\n",
      "Location time_of_day combine to get correlation 0.044 compared to 0.021 0.025\n"
     ]
    }
   ],
   "source": [
    "for feature1 in base_corrs.index:\n",
    "    for feature2 in base_corrs.index:\n",
    "        if feature2 != feature1:\n",
    "            # divide the two features to create a new feature\n",
    "            new_feature = x_train[feature1] / x_train[feature2]\n",
    "            new_corr = np.abs(np.round(np.corrcoef(new_feature, y_train)[0,1], 3))\n",
    "            corr1 = np.abs(np.round(base_corrs[feature1], 3))\n",
    "            corr2 = np.abs(np.round(base_corrs[feature2], 3))\n",
    "            # add a threshold of 0.02 to make sure that the improvement is meaningful\n",
    "            if new_corr > max(corr1, corr2)+0.015:\n",
    "                print('{} {} combine to get correlation {} compared to {} {}'.format(\n",
    "                    feature1, feature2, new_corr, corr1, corr2))"
   ]
  },
  {
   "cell_type": "code",
   "execution_count": 155,
   "metadata": {},
   "outputs": [],
   "source": [
    "for feature1 in base_corrs.index:\n",
    "    for feature2 in base_corrs.index:\n",
    "        if feature2 != feature1:\n",
    "            # divide the two features to create a new feature\n",
    "            new_feature = x_train[feature1] * x_train[feature2]\n",
    "            new_corr = np.abs(np.round(np.corrcoef(new_feature, y_train)[0,1], 3))\n",
    "            corr1 = np.abs(np.round(base_corrs[feature1], 3))\n",
    "            corr2 = np.abs(np.round(base_corrs[feature2], 3))\n",
    "            # add a threshold of 0.02 to make sure that the improvement is meaningful\n",
    "            if new_corr > max(corr1, corr2)+0.015:\n",
    "                print('{} {} combine to get correlation {} compared to {} {}'.format(\n",
    "                    feature1, feature2, new_corr, corr1, corr2))"
   ]
  },
  {
   "cell_type": "markdown",
   "metadata": {},
   "source": [
    "Try new model "
   ]
  },
  {
   "cell_type": "code",
   "execution_count": 4,
   "metadata": {},
   "outputs": [
    {
     "data": {
      "text/plain": [
       "Index(['vendor_id', 'pickup_datetime', 'dropoff_datetime', 'passenger_count',\n",
       "       'trip_distance', 'pickup_longitude', 'pickup_latitude',\n",
       "       'dropoff_longitude', 'dropoff_latitude', 'fare_amount', 'surcharge',\n",
       "       'mta_tax', 'tip_amount', 'tolls_amount', 'total_amount', 'duration',\n",
       "       'Location', 'time_of_day', 'CRD', 'UNK', 'NOC', 'DIS', 'CSH'],\n",
       "      dtype='object')"
      ]
     },
     "execution_count": 4,
     "metadata": {},
     "output_type": "execute_result"
    }
   ],
   "source": [
    "data.columns"
   ]
  },
  {
   "cell_type": "code",
   "execution_count": null,
   "metadata": {},
   "outputs": [],
   "source": [
    "x_train, x_test, y_train, y_test = train_test_split(data.drop(columns=['tip_amount','pickup_longitude', 'pickup_latitude',\n",
    "       'dropoff_longitude', 'dropoff_latitude','pickup_datetime','dropoff_datetime','total_amount','mta_tax']), data['tip_amount'], test_size=0.30, random_state=1)"
   ]
  },
  {
   "cell_type": "code",
   "execution_count": null,
   "metadata": {},
   "outputs": [],
   "source": []
  },
  {
   "cell_type": "code",
   "execution_count": null,
   "metadata": {},
   "outputs": [],
   "source": [
    "from sklearn.metrics import confusion_matrix\n",
    "\n",
    "y_pred = logregl1.predict(X_test)\n",
    "cfm = confusion_matrix(y_true=y_test, y_pred=y_pred)\n",
    "ax = sns.heatmap(cfm, annot=True)\n",
    "ax.set(xlabel='Predicted', ylabel='Actual');"
   ]
  },
  {
   "cell_type": "code",
   "execution_count": null,
   "metadata": {},
   "outputs": [],
   "source": []
  },
  {
   "cell_type": "code",
   "execution_count": null,
   "metadata": {},
   "outputs": [],
   "source": []
  }
 ],
 "metadata": {
  "kernelspec": {
   "display_name": "Python 3",
   "language": "python",
   "name": "python3"
  },
  "language_info": {
   "codemirror_mode": {
    "name": "ipython",
    "version": 3
   },
   "file_extension": ".py",
   "mimetype": "text/x-python",
   "name": "python",
   "nbconvert_exporter": "python",
   "pygments_lexer": "ipython3",
   "version": "3.7.3"
  }
 },
 "nbformat": 4,
 "nbformat_minor": 2
}
