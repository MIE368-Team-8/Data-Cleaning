{
 "cells": [
  {
   "cell_type": "markdown",
   "metadata": {},
   "source": [
    "# Hello, this is the beginning of my attempt to read this file! Enjoy :)"
   ]
  },
  {
   "cell_type": "code",
   "execution_count": 25,
   "metadata": {},
   "outputs": [],
   "source": [
    "#here are all my imports\n",
    "import pandas as pd\n",
    "import matplotlib.pyplot as plt\n",
    "from scipy import stats\n",
    "import numpy as np"
   ]
  },
  {
   "cell_type": "code",
   "execution_count": 48,
   "metadata": {},
   "outputs": [
    {
     "name": "stderr",
     "output_type": "stream",
     "text": [
      "C:\\ProgramData\\Anaconda3\\lib\\site-packages\\IPython\\core\\interactiveshell.py:3049: DtypeWarning: Columns (8) have mixed types. Specify dtype option on import or set low_memory=False.\n",
      "  interactivity=interactivity, compiler=compiler, result=result)\n"
     ]
    }
   ],
   "source": [
    "taxi14 = pd.read_csv(\"data/nyc_taxi_data_2014.csv\")"
   ]
  },
  {
   "cell_type": "code",
   "execution_count": 49,
   "metadata": {},
   "outputs": [
    {
     "data": {
      "text/html": [
       "<div>\n",
       "<style scoped>\n",
       "    .dataframe tbody tr th:only-of-type {\n",
       "        vertical-align: middle;\n",
       "    }\n",
       "\n",
       "    .dataframe tbody tr th {\n",
       "        vertical-align: top;\n",
       "    }\n",
       "\n",
       "    .dataframe thead th {\n",
       "        text-align: right;\n",
       "    }\n",
       "</style>\n",
       "<table border=\"1\" class=\"dataframe\">\n",
       "  <thead>\n",
       "    <tr style=\"text-align: right;\">\n",
       "      <th></th>\n",
       "      <th>vendor_id</th>\n",
       "      <th>pickup_datetime</th>\n",
       "      <th>dropoff_datetime</th>\n",
       "      <th>passenger_count</th>\n",
       "      <th>trip_distance</th>\n",
       "      <th>pickup_longitude</th>\n",
       "      <th>pickup_latitude</th>\n",
       "      <th>rate_code</th>\n",
       "      <th>store_and_fwd_flag</th>\n",
       "      <th>dropoff_longitude</th>\n",
       "      <th>dropoff_latitude</th>\n",
       "      <th>payment_type</th>\n",
       "      <th>fare_amount</th>\n",
       "      <th>surcharge</th>\n",
       "      <th>mta_tax</th>\n",
       "      <th>tip_amount</th>\n",
       "      <th>tolls_amount</th>\n",
       "      <th>total_amount</th>\n",
       "    </tr>\n",
       "  </thead>\n",
       "  <tbody>\n",
       "    <tr>\n",
       "      <th>0</th>\n",
       "      <td>CMT</td>\n",
       "      <td>2014-01-09 20:45:25</td>\n",
       "      <td>2014-01-09 20:52:31</td>\n",
       "      <td>1</td>\n",
       "      <td>0.7</td>\n",
       "      <td>-73.994770</td>\n",
       "      <td>40.736828</td>\n",
       "      <td>1</td>\n",
       "      <td>N</td>\n",
       "      <td>-73.982227</td>\n",
       "      <td>40.731790</td>\n",
       "      <td>CRD</td>\n",
       "      <td>6.5</td>\n",
       "      <td>0.5</td>\n",
       "      <td>0.5</td>\n",
       "      <td>1.40</td>\n",
       "      <td>0.0</td>\n",
       "      <td>8.90</td>\n",
       "    </tr>\n",
       "    <tr>\n",
       "      <th>1</th>\n",
       "      <td>CMT</td>\n",
       "      <td>2014-01-09 20:46:12</td>\n",
       "      <td>2014-01-09 20:55:12</td>\n",
       "      <td>1</td>\n",
       "      <td>1.4</td>\n",
       "      <td>-73.982392</td>\n",
       "      <td>40.773382</td>\n",
       "      <td>1</td>\n",
       "      <td>N</td>\n",
       "      <td>-73.960449</td>\n",
       "      <td>40.763995</td>\n",
       "      <td>CRD</td>\n",
       "      <td>8.5</td>\n",
       "      <td>0.5</td>\n",
       "      <td>0.5</td>\n",
       "      <td>1.90</td>\n",
       "      <td>0.0</td>\n",
       "      <td>11.40</td>\n",
       "    </tr>\n",
       "    <tr>\n",
       "      <th>2</th>\n",
       "      <td>CMT</td>\n",
       "      <td>2014-01-09 20:44:47</td>\n",
       "      <td>2014-01-09 20:59:46</td>\n",
       "      <td>2</td>\n",
       "      <td>2.3</td>\n",
       "      <td>-73.988570</td>\n",
       "      <td>40.739406</td>\n",
       "      <td>1</td>\n",
       "      <td>N</td>\n",
       "      <td>-73.986626</td>\n",
       "      <td>40.765217</td>\n",
       "      <td>CRD</td>\n",
       "      <td>11.5</td>\n",
       "      <td>0.5</td>\n",
       "      <td>0.5</td>\n",
       "      <td>1.50</td>\n",
       "      <td>0.0</td>\n",
       "      <td>14.00</td>\n",
       "    </tr>\n",
       "    <tr>\n",
       "      <th>3</th>\n",
       "      <td>CMT</td>\n",
       "      <td>2014-01-09 20:44:57</td>\n",
       "      <td>2014-01-09 20:51:40</td>\n",
       "      <td>1</td>\n",
       "      <td>1.7</td>\n",
       "      <td>-73.960213</td>\n",
       "      <td>40.770464</td>\n",
       "      <td>1</td>\n",
       "      <td>N</td>\n",
       "      <td>-73.979863</td>\n",
       "      <td>40.777050</td>\n",
       "      <td>CRD</td>\n",
       "      <td>7.5</td>\n",
       "      <td>0.5</td>\n",
       "      <td>0.5</td>\n",
       "      <td>1.70</td>\n",
       "      <td>0.0</td>\n",
       "      <td>10.20</td>\n",
       "    </tr>\n",
       "    <tr>\n",
       "      <th>4</th>\n",
       "      <td>CMT</td>\n",
       "      <td>2014-01-09 20:47:09</td>\n",
       "      <td>2014-01-09 20:53:32</td>\n",
       "      <td>1</td>\n",
       "      <td>0.9</td>\n",
       "      <td>-73.995371</td>\n",
       "      <td>40.717248</td>\n",
       "      <td>1</td>\n",
       "      <td>N</td>\n",
       "      <td>-73.984367</td>\n",
       "      <td>40.720524</td>\n",
       "      <td>CRD</td>\n",
       "      <td>6.0</td>\n",
       "      <td>0.5</td>\n",
       "      <td>0.5</td>\n",
       "      <td>1.75</td>\n",
       "      <td>0.0</td>\n",
       "      <td>8.75</td>\n",
       "    </tr>\n",
       "  </tbody>\n",
       "</table>\n",
       "</div>"
      ],
      "text/plain": [
       "  vendor_id      pickup_datetime     dropoff_datetime  passenger_count  \\\n",
       "0       CMT  2014-01-09 20:45:25  2014-01-09 20:52:31                1   \n",
       "1       CMT  2014-01-09 20:46:12  2014-01-09 20:55:12                1   \n",
       "2       CMT  2014-01-09 20:44:47  2014-01-09 20:59:46                2   \n",
       "3       CMT  2014-01-09 20:44:57  2014-01-09 20:51:40                1   \n",
       "4       CMT  2014-01-09 20:47:09  2014-01-09 20:53:32                1   \n",
       "\n",
       "   trip_distance  pickup_longitude  pickup_latitude  rate_code  \\\n",
       "0            0.7        -73.994770        40.736828          1   \n",
       "1            1.4        -73.982392        40.773382          1   \n",
       "2            2.3        -73.988570        40.739406          1   \n",
       "3            1.7        -73.960213        40.770464          1   \n",
       "4            0.9        -73.995371        40.717248          1   \n",
       "\n",
       "  store_and_fwd_flag  dropoff_longitude  dropoff_latitude payment_type  \\\n",
       "0                  N         -73.982227         40.731790          CRD   \n",
       "1                  N         -73.960449         40.763995          CRD   \n",
       "2                  N         -73.986626         40.765217          CRD   \n",
       "3                  N         -73.979863         40.777050          CRD   \n",
       "4                  N         -73.984367         40.720524          CRD   \n",
       "\n",
       "   fare_amount  surcharge  mta_tax  tip_amount  tolls_amount  total_amount  \n",
       "0          6.5        0.5      0.5        1.40           0.0          8.90  \n",
       "1          8.5        0.5      0.5        1.90           0.0         11.40  \n",
       "2         11.5        0.5      0.5        1.50           0.0         14.00  \n",
       "3          7.5        0.5      0.5        1.70           0.0         10.20  \n",
       "4          6.0        0.5      0.5        1.75           0.0          8.75  "
      ]
     },
     "execution_count": 49,
     "metadata": {},
     "output_type": "execute_result"
    }
   ],
   "source": [
    "taxi14.head()"
   ]
  },
  {
   "cell_type": "code",
   "execution_count": 50,
   "metadata": {},
   "outputs": [
    {
     "data": {
      "text/plain": [
       "(14999999, 18)"
      ]
     },
     "execution_count": 50,
     "metadata": {},
     "output_type": "execute_result"
    }
   ],
   "source": [
    "taxi14.shape"
   ]
  },
  {
   "cell_type": "code",
   "execution_count": null,
   "metadata": {},
   "outputs": [],
   "source": [
    "##we dont need to rename any of the columns"
   ]
  },
  {
   "cell_type": "code",
   "execution_count": 4,
   "metadata": {},
   "outputs": [
    {
     "data": {
      "text/plain": [
       "vendor_id              object\n",
       "pickup_datetime        object\n",
       "dropoff_datetime       object\n",
       "passenger_count         int64\n",
       "trip_distance         float64\n",
       "pickup_longitude      float64\n",
       "pickup_latitude       float64\n",
       "rate_code               int64\n",
       "store_and_fwd_flag     object\n",
       "dropoff_longitude     float64\n",
       "dropoff_latitude      float64\n",
       "payment_type           object\n",
       "fare_amount           float64\n",
       "surcharge             float64\n",
       "mta_tax               float64\n",
       "tip_amount            float64\n",
       "tolls_amount          float64\n",
       "total_amount          float64\n",
       "dtype: object"
      ]
     },
     "execution_count": 4,
     "metadata": {},
     "output_type": "execute_result"
    }
   ],
   "source": [
    "taxi14.dtypes"
   ]
  },
  {
   "cell_type": "markdown",
   "metadata": {},
   "source": [
    "## Data QA"
   ]
  },
  {
   "cell_type": "markdown",
   "metadata": {},
   "source": [
    "### Check for duplictes"
   ]
  },
  {
   "cell_type": "code",
   "execution_count": null,
   "metadata": {},
   "outputs": [],
   "source": [
    "taxi14['unique_model'] = taxi14.vendor_id.str.cat(\n",
    "    [taxi14.pickup_datetime.apply(str), taxi14.dropoff_datetime.apply(str)],sep='-')"
   ]
  },
  {
   "cell_type": "code",
   "execution_count": null,
   "metadata": {},
   "outputs": [],
   "source": [
    "taxi14[[\"vendor_id\", \"pickup_datetime\", \"dropoff_datetime\", \"unique_model\"]].head()"
   ]
  },
  {
   "cell_type": "code",
   "execution_count": null,
   "metadata": {},
   "outputs": [],
   "source": [
    "taxi14.unique_model.value_counts()"
   ]
  },
  {
   "cell_type": "code",
   "execution_count": null,
   "metadata": {},
   "outputs": [],
   "source": [
    "taxi14[taxi14.unique_model=='VTS-2014-01-22 14:21:00-2014-01-22 14:21:00'].head()"
   ]
  },
  {
   "cell_type": "code",
   "execution_count": null,
   "metadata": {},
   "outputs": [],
   "source": [
    "taxi14[taxi14.duplicated()].shape"
   ]
  },
  {
   "cell_type": "code",
   "execution_count": 51,
   "metadata": {},
   "outputs": [
    {
     "data": {
      "text/plain": [
       "(14999901, 18)"
      ]
     },
     "execution_count": 51,
     "metadata": {},
     "output_type": "execute_result"
    }
   ],
   "source": [
    "taxi14 = taxi14.drop_duplicates()\n",
    "taxi14.shape"
   ]
  },
  {
   "cell_type": "code",
   "execution_count": null,
   "metadata": {},
   "outputs": [],
   "source": [
    "del taxi14['unique_model']"
   ]
  },
  {
   "cell_type": "markdown",
   "metadata": {},
   "source": [
    "### Check for missing values"
   ]
  },
  {
   "cell_type": "code",
   "execution_count": 6,
   "metadata": {
    "scrolled": true
   },
   "outputs": [
    {
     "name": "stdout",
     "output_type": "stream",
     "text": [
      "vendor_id | 0.0 | object\n",
      "pickup_datetime | 0.0 | object\n",
      "dropoff_datetime | 0.0 | object\n",
      "passenger_count | 0.0 | int64\n",
      "trip_distance | 0.0 | float64\n",
      "pickup_longitude | 0.0 | float64\n",
      "pickup_latitude | 0.0 | float64\n",
      "rate_code | 0.0 | int64\n",
      "store_and_fwd_flag | 0.5090686265196017 | object\n",
      "dropoff_longitude | 9.666730467087749e-06 | float64\n",
      "dropoff_latitude | 9.666730467087749e-06 | float64\n",
      "payment_type | 0.0 | object\n",
      "fare_amount | 0.0 | float64\n",
      "surcharge | 0.0 | float64\n",
      "mta_tax | 0.0 | float64\n",
      "tip_amount | 0.0 | float64\n",
      "tolls_amount | 0.0 | float64\n",
      "total_amount | 0.0 | float64\n"
     ]
    }
   ],
   "source": [
    "n_records = len(taxi14)\n",
    "def missing_values_df(df):\n",
    "    for column in df:\n",
    "        print(\"{} | {} | {}\".format(\n",
    "            column, len(df[df[column].isnull()]) / (1.0*n_records), df[column].dtype\n",
    "        ))\n",
    "\n",
    "missing_values_df(taxi14)"
   ]
  },
  {
   "cell_type": "code",
   "execution_count": null,
   "metadata": {},
   "outputs": [],
   "source": [
    "taxi14.store_and_fwd_flag.value_counts()"
   ]
  },
  {
   "cell_type": "code",
   "execution_count": null,
   "metadata": {},
   "outputs": [],
   "source": [
    "taxi14.store_and_fwd_flag.isnull().sum()"
   ]
  },
  {
   "cell_type": "code",
   "execution_count": 52,
   "metadata": {},
   "outputs": [],
   "source": [
    "del taxi14['store_and_fwd_flag']"
   ]
  },
  {
   "cell_type": "code",
   "execution_count": 53,
   "metadata": {},
   "outputs": [
    {
     "data": {
      "text/plain": [
       "(14999756, 17)"
      ]
     },
     "execution_count": 53,
     "metadata": {},
     "output_type": "execute_result"
    }
   ],
   "source": [
    "taxi14 = taxi14.dropna(subset=[\"dropoff_longitude\", \"dropoff_latitude\"])\n",
    "\n",
    "taxi14.shape"
   ]
  },
  {
   "cell_type": "markdown",
   "metadata": {},
   "source": [
    "### Check for outliers"
   ]
  },
  {
   "cell_type": "code",
   "execution_count": 9,
   "metadata": {},
   "outputs": [
    {
     "data": {
      "text/plain": [
       "VTS    7634795\n",
       "CMT    7364961\n",
       "Name: vendor_id, dtype: int64"
      ]
     },
     "execution_count": 9,
     "metadata": {},
     "output_type": "execute_result"
    }
   ],
   "source": [
    "taxi14.vendor_id.value_counts()"
   ]
  },
  {
   "cell_type": "code",
   "execution_count": 10,
   "metadata": {},
   "outputs": [
    {
     "data": {
      "text/plain": [
       "1      10602609\n",
       "2       2046971\n",
       "5        860368\n",
       "3        611903\n",
       "6        589030\n",
       "4        288702\n",
       "0           124\n",
       "208          19\n",
       "9            18\n",
       "7             7\n",
       "8             5\n",
       "Name: passenger_count, dtype: int64"
      ]
     },
     "execution_count": 10,
     "metadata": {},
     "output_type": "execute_result"
    }
   ],
   "source": [
    "taxi14.passenger_count.value_counts()"
   ]
  },
  {
   "cell_type": "code",
   "execution_count": 54,
   "metadata": {},
   "outputs": [],
   "source": [
    "taxi14 = taxi14[(taxi14.passenger_count > 0) & (taxi14.passenger_count < 7)]"
   ]
  },
  {
   "cell_type": "code",
   "execution_count": 12,
   "metadata": {},
   "outputs": [
    {
     "data": {
      "text/plain": [
       "<matplotlib.axes._subplots.AxesSubplot at 0x1a94522b080>"
      ]
     },
     "execution_count": 12,
     "metadata": {},
     "output_type": "execute_result"
    }
   ],
   "source": [
    "taxi14.boxplot(column='passenger_count')"
   ]
  },
  {
   "cell_type": "code",
   "execution_count": 55,
   "metadata": {},
   "outputs": [],
   "source": [
    "taxi14 = taxi14[taxi14.passenger_count < 6]"
   ]
  },
  {
   "cell_type": "code",
   "execution_count": 14,
   "metadata": {},
   "outputs": [
    {
     "data": {
      "text/plain": [
       "<matplotlib.axes._subplots.AxesSubplot at 0x1a941454630>"
      ]
     },
     "execution_count": 14,
     "metadata": {},
     "output_type": "execute_result"
    },
    {
     "data": {
      "image/png": "[encoded data removed]",
      "text/plain": [
       "<Figure size 432x288 with 1 Axes>"
      ]
     },
     "metadata": {
      "needs_background": "light"
     },
     "output_type": "display_data"
    }
   ],
   "source": [
    "taxi14.boxplot(column='passenger_count')"
   ]
  },
  {
   "cell_type": "code",
   "execution_count": 31,
   "metadata": {},
   "outputs": [
    {
     "name": "stdout",
     "output_type": "stream",
     "text": [
      "trip_distance | 450977 | float64\n",
      "pickup_longitude | 199784 | float64\n",
      "pickup_latitude | 199799 | float64\n"
     ]
    },
    {
     "name": "stderr",
     "output_type": "stream",
     "text": [
      "C:\\ProgramData\\Anaconda3\\lib\\site-packages\\ipykernel_launcher.py:7: RuntimeWarning: invalid value encountered in greater\n",
      "  import sys\n"
     ]
    },
    {
     "name": "stdout",
     "output_type": "stream",
     "text": [
      "dropoff_longitude | 0 | float64\n",
      "dropoff_latitude | 0 | float64\n",
      "fare_amount | 235049 | float64\n",
      "surcharge | 412 | float64\n",
      "mta_tax | 29271 | float64\n",
      "tip_amount | 251427 | float64\n",
      "tolls_amount | 386797 | float64\n",
      "total_amount | 304491 | float64\n"
     ]
    }
   ],
   "source": [
    "from scipy import stats\n",
    "import numpy as np\n",
    "\n",
    "def outliers_col(df):\n",
    "    for column in df:\n",
    "        if df[column].dtype == np.float:\n",
    "            n_outliers = len(df[np.abs(stats.zscore(df[column])) > 3])    \n",
    "            print(\"{} | {} | {}\".format(\n",
    "                df[column].name,\n",
    "                n_outliers,\n",
    "                df[column].dtype\n",
    "        ))\n",
    "\n",
    "outliers_col(taxi14)"
   ]
  },
  {
   "cell_type": "code",
   "execution_count": 56,
   "metadata": {},
   "outputs": [
    {
     "data": {
      "image/png": "[encoded data removed]",
      "text/plain": [
       "<Figure size 432x288 with 1 Axes>"
      ]
     },
     "metadata": {
      "needs_background": "light"
     },
     "output_type": "display_data"
    }
   ],
   "source": [
    "taxi14.boxplot(column='trip_distance');"
   ]
  },
  {
   "cell_type": "code",
   "execution_count": 57,
   "metadata": {},
   "outputs": [
    {
     "data": {
      "text/html": [
       "<div>\n",
       "<style scoped>\n",
       "    .dataframe tbody tr th:only-of-type {\n",
       "        vertical-align: middle;\n",
       "    }\n",
       "\n",
       "    .dataframe tbody tr th {\n",
       "        vertical-align: top;\n",
       "    }\n",
       "\n",
       "    .dataframe thead th {\n",
       "        text-align: right;\n",
       "    }\n",
       "</style>\n",
       "<table border=\"1\" class=\"dataframe\">\n",
       "  <thead>\n",
       "    <tr style=\"text-align: right;\">\n",
       "      <th></th>\n",
       "      <th>passenger_count</th>\n",
       "      <th>trip_distance</th>\n",
       "      <th>pickup_longitude</th>\n",
       "      <th>pickup_latitude</th>\n",
       "      <th>rate_code</th>\n",
       "      <th>dropoff_longitude</th>\n",
       "      <th>dropoff_latitude</th>\n",
       "      <th>fare_amount</th>\n",
       "      <th>surcharge</th>\n",
       "      <th>mta_tax</th>\n",
       "      <th>tip_amount</th>\n",
       "      <th>tolls_amount</th>\n",
       "      <th>total_amount</th>\n",
       "    </tr>\n",
       "  </thead>\n",
       "  <tbody>\n",
       "    <tr>\n",
       "      <th>count</th>\n",
       "      <td>1.441055e+07</td>\n",
       "      <td>1.441055e+07</td>\n",
       "      <td>1.441055e+07</td>\n",
       "      <td>1.441055e+07</td>\n",
       "      <td>1.441055e+07</td>\n",
       "      <td>1.441055e+07</td>\n",
       "      <td>1.441055e+07</td>\n",
       "      <td>1.441055e+07</td>\n",
       "      <td>1.441055e+07</td>\n",
       "      <td>1.441055e+07</td>\n",
       "      <td>1.441055e+07</td>\n",
       "      <td>1.441055e+07</td>\n",
       "      <td>1.441055e+07</td>\n",
       "    </tr>\n",
       "    <tr>\n",
       "      <th>mean</th>\n",
       "      <td>1.525889e+00</td>\n",
       "      <td>2.790610e+00</td>\n",
       "      <td>-7.294388e+01</td>\n",
       "      <td>4.018047e+01</td>\n",
       "      <td>1.034287e+00</td>\n",
       "      <td>-7.288374e+01</td>\n",
       "      <td>4.014809e+01</td>\n",
       "      <td>1.201655e+01</td>\n",
       "      <td>3.148430e-01</td>\n",
       "      <td>4.981892e-01</td>\n",
       "      <td>1.457008e+00</td>\n",
       "      <td>2.403245e-01</td>\n",
       "      <td>1.452788e+01</td>\n",
       "    </tr>\n",
       "    <tr>\n",
       "      <th>std</th>\n",
       "      <td>1.082084e+00</td>\n",
       "      <td>3.326219e+00</td>\n",
       "      <td>8.683094e+00</td>\n",
       "      <td>4.817866e+00</td>\n",
       "      <td>7.314714e-01</td>\n",
       "      <td>8.940227e+00</td>\n",
       "      <td>4.952294e+00</td>\n",
       "      <td>1.009179e+01</td>\n",
       "      <td>3.633020e-01</td>\n",
       "      <td>3.003526e-02</td>\n",
       "      <td>2.245957e+00</td>\n",
       "      <td>1.191292e+00</td>\n",
       "      <td>1.219075e+01</td>\n",
       "    </tr>\n",
       "    <tr>\n",
       "      <th>min</th>\n",
       "      <td>1.000000e+00</td>\n",
       "      <td>0.000000e+00</td>\n",
       "      <td>-1.800000e+02</td>\n",
       "      <td>-1.800000e+02</td>\n",
       "      <td>0.000000e+00</td>\n",
       "      <td>-7.754167e+02</td>\n",
       "      <td>-1.800000e+02</td>\n",
       "      <td>2.500000e+00</td>\n",
       "      <td>0.000000e+00</td>\n",
       "      <td>0.000000e+00</td>\n",
       "      <td>0.000000e+00</td>\n",
       "      <td>0.000000e+00</td>\n",
       "      <td>2.500000e+00</td>\n",
       "    </tr>\n",
       "    <tr>\n",
       "      <th>25%</th>\n",
       "      <td>1.000000e+00</td>\n",
       "      <td>1.000000e+00</td>\n",
       "      <td>-7.399199e+01</td>\n",
       "      <td>4.073530e+01</td>\n",
       "      <td>1.000000e+00</td>\n",
       "      <td>-7.399135e+01</td>\n",
       "      <td>4.073416e+01</td>\n",
       "      <td>6.500000e+00</td>\n",
       "      <td>0.000000e+00</td>\n",
       "      <td>5.000000e-01</td>\n",
       "      <td>0.000000e+00</td>\n",
       "      <td>0.000000e+00</td>\n",
       "      <td>8.000000e+00</td>\n",
       "    </tr>\n",
       "    <tr>\n",
       "      <th>50%</th>\n",
       "      <td>1.000000e+00</td>\n",
       "      <td>1.700000e+00</td>\n",
       "      <td>-7.398184e+01</td>\n",
       "      <td>4.075294e+01</td>\n",
       "      <td>1.000000e+00</td>\n",
       "      <td>-7.398007e+01</td>\n",
       "      <td>4.075333e+01</td>\n",
       "      <td>9.000000e+00</td>\n",
       "      <td>0.000000e+00</td>\n",
       "      <td>5.000000e-01</td>\n",
       "      <td>1.000000e+00</td>\n",
       "      <td>0.000000e+00</td>\n",
       "      <td>1.100000e+01</td>\n",
       "    </tr>\n",
       "    <tr>\n",
       "      <th>75%</th>\n",
       "      <td>2.000000e+00</td>\n",
       "      <td>3.080000e+00</td>\n",
       "      <td>-7.396734e+01</td>\n",
       "      <td>4.076722e+01</td>\n",
       "      <td>1.000000e+00</td>\n",
       "      <td>-7.396349e+01</td>\n",
       "      <td>4.076837e+01</td>\n",
       "      <td>1.350000e+01</td>\n",
       "      <td>5.000000e-01</td>\n",
       "      <td>5.000000e-01</td>\n",
       "      <td>2.000000e+00</td>\n",
       "      <td>0.000000e+00</td>\n",
       "      <td>1.610000e+01</td>\n",
       "    </tr>\n",
       "    <tr>\n",
       "      <th>max</th>\n",
       "      <td>5.000000e+00</td>\n",
       "      <td>1.000000e+02</td>\n",
       "      <td>8.054390e+01</td>\n",
       "      <td>7.328431e+01</td>\n",
       "      <td>2.100000e+02</td>\n",
       "      <td>1.193360e+02</td>\n",
       "      <td>4.040833e+02</td>\n",
       "      <td>5.000000e+02</td>\n",
       "      <td>1.340000e+01</td>\n",
       "      <td>5.000000e-01</td>\n",
       "      <td>2.000000e+02</td>\n",
       "      <td>2.000000e+01</td>\n",
       "      <td>7.000000e+02</td>\n",
       "    </tr>\n",
       "  </tbody>\n",
       "</table>\n",
       "</div>"
      ],
      "text/plain": [
       "       passenger_count  trip_distance  pickup_longitude  pickup_latitude  \\\n",
       "count     1.441055e+07   1.441055e+07      1.441055e+07     1.441055e+07   \n",
       "mean      1.525889e+00   2.790610e+00     -7.294388e+01     4.018047e+01   \n",
       "std       1.082084e+00   3.326219e+00      8.683094e+00     4.817866e+00   \n",
       "min       1.000000e+00   0.000000e+00     -1.800000e+02    -1.800000e+02   \n",
       "25%       1.000000e+00   1.000000e+00     -7.399199e+01     4.073530e+01   \n",
       "50%       1.000000e+00   1.700000e+00     -7.398184e+01     4.075294e+01   \n",
       "75%       2.000000e+00   3.080000e+00     -7.396734e+01     4.076722e+01   \n",
       "max       5.000000e+00   1.000000e+02      8.054390e+01     7.328431e+01   \n",
       "\n",
       "          rate_code  dropoff_longitude  dropoff_latitude   fare_amount  \\\n",
       "count  1.441055e+07       1.441055e+07      1.441055e+07  1.441055e+07   \n",
       "mean   1.034287e+00      -7.288374e+01      4.014809e+01  1.201655e+01   \n",
       "std    7.314714e-01       8.940227e+00      4.952294e+00  1.009179e+01   \n",
       "min    0.000000e+00      -7.754167e+02     -1.800000e+02  2.500000e+00   \n",
       "25%    1.000000e+00      -7.399135e+01      4.073416e+01  6.500000e+00   \n",
       "50%    1.000000e+00      -7.398007e+01      4.075333e+01  9.000000e+00   \n",
       "75%    1.000000e+00      -7.396349e+01      4.076837e+01  1.350000e+01   \n",
       "max    2.100000e+02       1.193360e+02      4.040833e+02  5.000000e+02   \n",
       "\n",
       "          surcharge       mta_tax    tip_amount  tolls_amount  total_amount  \n",
       "count  1.441055e+07  1.441055e+07  1.441055e+07  1.441055e+07  1.441055e+07  \n",
       "mean   3.148430e-01  4.981892e-01  1.457008e+00  2.403245e-01  1.452788e+01  \n",
       "std    3.633020e-01  3.003526e-02  2.245957e+00  1.191292e+00  1.219075e+01  \n",
       "min    0.000000e+00  0.000000e+00  0.000000e+00  0.000000e+00  2.500000e+00  \n",
       "25%    0.000000e+00  5.000000e-01  0.000000e+00  0.000000e+00  8.000000e+00  \n",
       "50%    0.000000e+00  5.000000e-01  1.000000e+00  0.000000e+00  1.100000e+01  \n",
       "75%    5.000000e-01  5.000000e-01  2.000000e+00  0.000000e+00  1.610000e+01  \n",
       "max    1.340000e+01  5.000000e-01  2.000000e+02  2.000000e+01  7.000000e+02  "
      ]
     },
     "execution_count": 57,
     "metadata": {},
     "output_type": "execute_result"
    }
   ],
   "source": [
    "taxi14.describe()"
   ]
  },
  {
   "cell_type": "code",
   "execution_count": 58,
   "metadata": {},
   "outputs": [
    {
     "data": {
      "text/plain": [
       "(14410553, 17)"
      ]
     },
     "execution_count": 58,
     "metadata": {},
     "output_type": "execute_result"
    }
   ],
   "source": [
    "taxi14.shape"
   ]
  },
  {
   "cell_type": "code",
   "execution_count": 59,
   "metadata": {},
   "outputs": [],
   "source": [
    "taxi14 = taxi14[taxi14.trip_distance<5]"
   ]
  },
  {
   "cell_type": "code",
   "execution_count": 60,
   "metadata": {},
   "outputs": [],
   "source": [
    "taxi14 = taxi14[(np.abs(stats.zscore(taxi14.trip_distance)) < 3)]"
   ]
  },
  {
   "cell_type": "code",
   "execution_count": 61,
   "metadata": {},
   "outputs": [
    {
     "data": {
      "text/plain": [
       "(12547898, 17)"
      ]
     },
     "execution_count": 61,
     "metadata": {},
     "output_type": "execute_result"
    }
   ],
   "source": [
    "taxi14.shape"
   ]
  },
  {
   "cell_type": "code",
   "execution_count": 45,
   "metadata": {},
   "outputs": [
    {
     "name": "stdout",
     "output_type": "stream",
     "text": [
      "trip_distance | 0 | float64\n",
      "pickup_longitude | 181225 | float64\n",
      "pickup_latitude | 181235 | float64\n",
      "dropoff_longitude | 0 | float64\n"
     ]
    },
    {
     "name": "stderr",
     "output_type": "stream",
     "text": [
      "C:\\ProgramData\\Anaconda3\\lib\\site-packages\\ipykernel_launcher.py:7: RuntimeWarning: invalid value encountered in greater\n",
      "  import sys\n"
     ]
    },
    {
     "name": "stdout",
     "output_type": "stream",
     "text": [
      "dropoff_latitude | 0 | float64\n",
      "fare_amount | 59682 | float64\n",
      "surcharge | 371 | float64\n",
      "mta_tax | 24211 | float64\n",
      "tip_amount | 62391 | float64\n",
      "tolls_amount | 35591 | float64\n",
      "total_amount | 65517 | float64\n"
     ]
    },
    {
     "data": {
      "image/png": "[encoded data removed]",
      "text/plain": [
       "<Figure size 432x288 with 1 Axes>"
      ]
     },
     "metadata": {
      "needs_background": "light"
     },
     "output_type": "display_data"
    }
   ],
   "source": [
    "taxi14.boxplot(column='trip_distance');\n",
    "outliers_col(taxi14)"
   ]
  },
  {
   "cell_type": "code",
   "execution_count": 63,
   "metadata": {},
   "outputs": [
    {
     "data": {
      "text/plain": [
       "(12350347, 17)"
      ]
     },
     "execution_count": 63,
     "metadata": {},
     "output_type": "execute_result"
    }
   ],
   "source": [
    "taxi14 = taxi14[taxi14.pickup_longitude!=0.0]\n",
    "taxi14 = taxi14[taxi14.dropoff_longitude!=0.0]\n",
    "taxi14 = taxi14[taxi14.pickup_latitude!=0.0]\n",
    "taxi14 = taxi14[taxi14.dropoff_latitude!=0.0]\n",
    "taxi14.shape"
   ]
  },
  {
   "cell_type": "code",
   "execution_count": 66,
   "metadata": {},
   "outputs": [
    {
     "name": "stdout",
     "output_type": "stream",
     "text": [
      "trip_distance | 0 | float64\n",
      "pickup_longitude | 605 | float64\n",
      "pickup_latitude | 449 | float64\n",
      "dropoff_longitude | 539 | float64\n",
      "dropoff_latitude | 446 | float64\n",
      "fare_amount | 57586 | float64\n",
      "surcharge | 341 | float64\n",
      "mta_tax | 16769 | float64\n",
      "tip_amount | 59502 | float64\n",
      "tolls_amount | 31685 | float64\n",
      "total_amount | 66311 | float64\n"
     ]
    }
   ],
   "source": [
    "outliers_col(taxi14)"
   ]
  },
  {
   "cell_type": "markdown",
   "metadata": {},
   "source": [
    "## Exploring data types"
   ]
  },
  {
   "cell_type": "code",
   "execution_count": null,
   "metadata": {},
   "outputs": [],
   "source": [
    "for col in ['vendor_id', 'playgrounds', 'sports', 'roading']:\n",
    "    public[col] = public[col].astype('category')"
   ]
  },
  {
   "cell_type": "code",
   "execution_count": 10,
   "metadata": {},
   "outputs": [],
   "source": [
    "taxi14['pickup_datetime'] =  pd.to_datetime(taxi14['pickup_datetime'], format='%Y-%m-%d %H:%M:%S.%f')"
   ]
  },
  {
   "cell_type": "code",
   "execution_count": 11,
   "metadata": {},
   "outputs": [],
   "source": [
    "taxi14['dropoff_datetime']= pd.to_datetime(taxi14['dropoff_datetime'], format='%Y-%m-%d %H:%M:%S.%f')"
   ]
  },
  {
   "cell_type": "markdown",
   "metadata": {},
   "source": [
    "## Preliminary data visualization"
   ]
  },
  {
   "cell_type": "code",
   "execution_count": null,
   "metadata": {},
   "outputs": [],
   "source": [
    "\n",
    "taxi14.plot.scatter(x=\"passenger_count\", y=\"trip_distance\");\n",
    "plt.show()"
   ]
  },
  {
   "cell_type": "code",
   "execution_count": null,
   "metadata": {},
   "outputs": [],
   "source": [
    "taxi14.trip_distance.plot.hist(xlim=(0,35));"
   ]
  },
  {
   "cell_type": "code",
   "execution_count": null,
   "metadata": {},
   "outputs": [],
   "source": [
    "taxi14.passenger_count.plot.kde();"
   ]
  },
  {
   "cell_type": "code",
   "execution_count": null,
   "metadata": {},
   "outputs": [],
   "source": [
    "ttlamount_by_passenger = taxi14.groupby(\"passenger_count\")[\"total_amount\"].mean()\n",
    "ttlamount_by_passenger.head()\n",
    "ttlamount_by_passenger.head(10).plot.barh();"
   ]
  },
  {
   "cell_type": "code",
   "execution_count": null,
   "metadata": {},
   "outputs": [],
   "source": [
    "taxi14.vendor_id.value_counts().plot.pie();"
   ]
  },
  {
   "cell_type": "code",
   "execution_count": null,
   "metadata": {},
   "outputs": [],
   "source": []
  },
  {
   "cell_type": "code",
   "execution_count": null,
   "metadata": {},
   "outputs": [],
   "source": []
  },
  {
   "cell_type": "markdown",
   "metadata": {},
   "source": [
    "ignore this.\n",
    "\n",
    "\n",
    "ndf = taxi14['pickup_datetime'].str.split(' ',expand=True).rename(columns={0:\"pickup_date\", 1:'pickup_time'})\n",
    "taxi14 = pd.concat([taxi14,ndf],1)\n",
    "taxi14 = taxi14.drop(['pickup_datetime'],1)\n",
    "\n",
    "ndf = taxi14['dropoff_datetime'].str.split(' ',expand=True).rename(columns={0:\"dropoff_date\", 1:'dropoff_time'})\n",
    "taxi14 = pd.concat([taxi14,ndf],1)\n",
    "taxi14 = taxi14.drop(['dropoff_datetime'],1) ##\n",
    "\n",
    "#split the date and time on the space abd delete the original columns"
   ]
  }
 ],
 "metadata": {
  "kernelspec": {
   "display_name": "Python 3",
   "language": "python",
   "name": "python3"
  },
  "language_info": {
   "codemirror_mode": {
    "name": "ipython",
    "version": 3
   },
   "file_extension": ".py",
   "mimetype": "text/x-python",
   "name": "python",
   "nbconvert_exporter": "python",
   "pygments_lexer": "ipython3",
   "version": "3.7.3"
  }
 },
 "nbformat": 4,
 "nbformat_minor": 2
}
