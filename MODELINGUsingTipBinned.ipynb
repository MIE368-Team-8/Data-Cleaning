{
 "cells": [
  {
   "cell_type": "code",
   "execution_count": 1,
   "metadata": {},
   "outputs": [],
   "source": [
    "import pandas as pd\n",
    "from sklearn.model_selection import train_test_split\n",
    "import numpy as np\n",
    "import seaborn as sns\n",
    "from sklearn.linear_model import LinearRegression, LogisticRegression, LassoCV, RidgeCV\n",
    "\n",
    "import matplotlib\n",
    "import matplotlib.pyplot as plt\n",
    "import seaborn as sns\n",
    "import numpy as np\n",
    "import pandas as pd\n",
    "\n",
    "from sklearn.tree import DecisionTreeRegressor, DecisionTreeClassifier\n",
    "from sklearn.tree import export_graphviz\n",
    "from subprocess import call\n",
    "from IPython.display import SVG"
   ]
  },
  {
   "cell_type": "code",
   "execution_count": 2,
   "metadata": {},
   "outputs": [],
   "source": [
    "import warnings\n",
    "warnings.filterwarnings(\"ignore\")\n",
    "from sklearn.linear_model import LogisticRegressionCV\n",
    "#from graphviz import Source"
   ]
  },
  {
   "cell_type": "markdown",
   "metadata": {},
   "source": [
    "## Building the initial models"
   ]
  },
  {
   "cell_type": "code",
   "execution_count": 6,
   "metadata": {},
   "outputs": [],
   "source": [
    "data = pd.read_csv(\"data/taxi_FINAL_FINAL.csv\")"
   ]
  },
  {
   "cell_type": "code",
   "execution_count": 7,
   "metadata": {},
   "outputs": [
    {
     "data": {
      "text/plain": [
       "Index(['vendor_id', 'pickup_datetime', 'dropoff_datetime', 'passenger_count',\n",
       "       'trip_distance', 'pickup_longitude', 'pickup_latitude',\n",
       "       'dropoff_longitude', 'dropoff_latitude', 'fare_amount', 'surcharge',\n",
       "       'mta_tax', 'tip_amount', 'tolls_amount', 'total_amount', 'duration',\n",
       "       'time_of_day', 'CRD', 'UNK', 'NOC', 'DIS', 'CSH', 'tip_percent',\n",
       "       'tip_amount_binned', 'Other', 'Upper East Side', 'Midtown', 'Greenwich',\n",
       "       'Tribeca', 'Financial District'],\n",
       "      dtype='object')"
      ]
     },
     "execution_count": 7,
     "metadata": {},
     "output_type": "execute_result"
    }
   ],
   "source": [
    "data.columns"
   ]
  },
  {
   "cell_type": "code",
   "execution_count": 8,
   "metadata": {},
   "outputs": [
    {
     "data": {
      "text/plain": [
       "vendor_id            -0.022902\n",
       "passenger_count      -0.000439\n",
       "trip_distance         0.531129\n",
       "pickup_longitude     -0.003706\n",
       "pickup_latitude      -0.010937\n",
       "dropoff_longitude    -0.016921\n",
       "dropoff_latitude     -0.006572\n",
       "fare_amount           0.602974\n",
       "surcharge             0.047274\n",
       "mta_tax                    NaN\n",
       "tip_amount            0.982329\n",
       "tolls_amount         -0.000182\n",
       "total_amount          0.721375\n",
       "duration              0.551446\n",
       "time_of_day           0.027086\n",
       "CRD                   0.061976\n",
       "UNK                  -0.000612\n",
       "NOC                  -0.093095\n",
       "DIS                  -0.049496\n",
       "CSH                   0.001332\n",
       "tip_percent           0.571606\n",
       "tip_amount_binned     1.000000\n",
       "Other                 0.003192\n",
       "Upper East Side      -0.016025\n",
       "Midtown              -0.003769\n",
       "Greenwich            -0.011386\n",
       "Tribeca               0.012066\n",
       "Financial District    0.043748\n",
       "Name: tip_amount_binned, dtype: float64"
      ]
     },
     "execution_count": 8,
     "metadata": {},
     "output_type": "execute_result"
    }
   ],
   "source": [
    "data.corr()['tip_amount_binned']"
   ]
  },
  {
   "cell_type": "code",
   "execution_count": 9,
   "metadata": {},
   "outputs": [],
   "source": [
    "x_train, x_test, y_train, y_test = train_test_split(data.drop(columns=['tip_amount','pickup_longitude', 'pickup_latitude',\n",
    "       'dropoff_longitude', 'dropoff_latitude','pickup_datetime','dropoff_datetime','total_amount','mta_tax','tip_percent','tip_amount_binned']), data['tip_amount_binned'], test_size=0.30, random_state=1)"
   ]
  },
  {
   "cell_type": "markdown",
   "metadata": {},
   "source": [
    "## Check for multicollinearity"
   ]
  },
  {
   "cell_type": "code",
   "execution_count": 10,
   "metadata": {},
   "outputs": [
    {
     "data": {
      "text/html": [
       "<div>\n",
       "<style scoped>\n",
       "    .dataframe tbody tr th:only-of-type {\n",
       "        vertical-align: middle;\n",
       "    }\n",
       "\n",
       "    .dataframe tbody tr th {\n",
       "        vertical-align: top;\n",
       "    }\n",
       "\n",
       "    .dataframe thead th {\n",
       "        text-align: right;\n",
       "    }\n",
       "</style>\n",
       "<table border=\"1\" class=\"dataframe\">\n",
       "  <thead>\n",
       "    <tr style=\"text-align: right;\">\n",
       "      <th></th>\n",
       "      <th>vendor_id</th>\n",
       "      <th>passenger_count</th>\n",
       "      <th>trip_distance</th>\n",
       "      <th>fare_amount</th>\n",
       "      <th>surcharge</th>\n",
       "      <th>tolls_amount</th>\n",
       "      <th>duration</th>\n",
       "      <th>time_of_day</th>\n",
       "      <th>CRD</th>\n",
       "      <th>UNK</th>\n",
       "      <th>NOC</th>\n",
       "      <th>DIS</th>\n",
       "      <th>CSH</th>\n",
       "      <th>Other</th>\n",
       "      <th>Upper East Side</th>\n",
       "      <th>Midtown</th>\n",
       "      <th>Greenwich</th>\n",
       "      <th>Tribeca</th>\n",
       "      <th>Financial District</th>\n",
       "    </tr>\n",
       "  </thead>\n",
       "  <tbody>\n",
       "    <tr>\n",
       "      <th>vendor_id</th>\n",
       "      <td>1.0</td>\n",
       "      <td>NaN</td>\n",
       "      <td>NaN</td>\n",
       "      <td>NaN</td>\n",
       "      <td>NaN</td>\n",
       "      <td>NaN</td>\n",
       "      <td>NaN</td>\n",
       "      <td>NaN</td>\n",
       "      <td>NaN</td>\n",
       "      <td>NaN</td>\n",
       "      <td>NaN</td>\n",
       "      <td>NaN</td>\n",
       "      <td>NaN</td>\n",
       "      <td>NaN</td>\n",
       "      <td>NaN</td>\n",
       "      <td>NaN</td>\n",
       "      <td>NaN</td>\n",
       "      <td>NaN</td>\n",
       "      <td>NaN</td>\n",
       "    </tr>\n",
       "    <tr>\n",
       "      <th>passenger_count</th>\n",
       "      <td>NaN</td>\n",
       "      <td>1.0</td>\n",
       "      <td>NaN</td>\n",
       "      <td>NaN</td>\n",
       "      <td>NaN</td>\n",
       "      <td>NaN</td>\n",
       "      <td>NaN</td>\n",
       "      <td>NaN</td>\n",
       "      <td>NaN</td>\n",
       "      <td>NaN</td>\n",
       "      <td>NaN</td>\n",
       "      <td>NaN</td>\n",
       "      <td>NaN</td>\n",
       "      <td>NaN</td>\n",
       "      <td>NaN</td>\n",
       "      <td>NaN</td>\n",
       "      <td>NaN</td>\n",
       "      <td>NaN</td>\n",
       "      <td>NaN</td>\n",
       "    </tr>\n",
       "    <tr>\n",
       "      <th>trip_distance</th>\n",
       "      <td>NaN</td>\n",
       "      <td>NaN</td>\n",
       "      <td>1.0</td>\n",
       "      <td>NaN</td>\n",
       "      <td>NaN</td>\n",
       "      <td>NaN</td>\n",
       "      <td>NaN</td>\n",
       "      <td>NaN</td>\n",
       "      <td>NaN</td>\n",
       "      <td>NaN</td>\n",
       "      <td>NaN</td>\n",
       "      <td>NaN</td>\n",
       "      <td>NaN</td>\n",
       "      <td>NaN</td>\n",
       "      <td>NaN</td>\n",
       "      <td>NaN</td>\n",
       "      <td>NaN</td>\n",
       "      <td>NaN</td>\n",
       "      <td>NaN</td>\n",
       "    </tr>\n",
       "    <tr>\n",
       "      <th>fare_amount</th>\n",
       "      <td>NaN</td>\n",
       "      <td>NaN</td>\n",
       "      <td>NaN</td>\n",
       "      <td>1.0</td>\n",
       "      <td>NaN</td>\n",
       "      <td>NaN</td>\n",
       "      <td>NaN</td>\n",
       "      <td>NaN</td>\n",
       "      <td>NaN</td>\n",
       "      <td>NaN</td>\n",
       "      <td>NaN</td>\n",
       "      <td>NaN</td>\n",
       "      <td>NaN</td>\n",
       "      <td>NaN</td>\n",
       "      <td>NaN</td>\n",
       "      <td>NaN</td>\n",
       "      <td>NaN</td>\n",
       "      <td>NaN</td>\n",
       "      <td>NaN</td>\n",
       "    </tr>\n",
       "    <tr>\n",
       "      <th>surcharge</th>\n",
       "      <td>NaN</td>\n",
       "      <td>NaN</td>\n",
       "      <td>NaN</td>\n",
       "      <td>NaN</td>\n",
       "      <td>1.0</td>\n",
       "      <td>NaN</td>\n",
       "      <td>NaN</td>\n",
       "      <td>NaN</td>\n",
       "      <td>NaN</td>\n",
       "      <td>NaN</td>\n",
       "      <td>NaN</td>\n",
       "      <td>NaN</td>\n",
       "      <td>NaN</td>\n",
       "      <td>NaN</td>\n",
       "      <td>NaN</td>\n",
       "      <td>NaN</td>\n",
       "      <td>NaN</td>\n",
       "      <td>NaN</td>\n",
       "      <td>NaN</td>\n",
       "    </tr>\n",
       "    <tr>\n",
       "      <th>tolls_amount</th>\n",
       "      <td>NaN</td>\n",
       "      <td>NaN</td>\n",
       "      <td>NaN</td>\n",
       "      <td>NaN</td>\n",
       "      <td>NaN</td>\n",
       "      <td>1.0</td>\n",
       "      <td>NaN</td>\n",
       "      <td>NaN</td>\n",
       "      <td>NaN</td>\n",
       "      <td>NaN</td>\n",
       "      <td>NaN</td>\n",
       "      <td>NaN</td>\n",
       "      <td>NaN</td>\n",
       "      <td>NaN</td>\n",
       "      <td>NaN</td>\n",
       "      <td>NaN</td>\n",
       "      <td>NaN</td>\n",
       "      <td>NaN</td>\n",
       "      <td>NaN</td>\n",
       "    </tr>\n",
       "    <tr>\n",
       "      <th>duration</th>\n",
       "      <td>NaN</td>\n",
       "      <td>NaN</td>\n",
       "      <td>NaN</td>\n",
       "      <td>NaN</td>\n",
       "      <td>NaN</td>\n",
       "      <td>NaN</td>\n",
       "      <td>1.0</td>\n",
       "      <td>NaN</td>\n",
       "      <td>NaN</td>\n",
       "      <td>NaN</td>\n",
       "      <td>NaN</td>\n",
       "      <td>NaN</td>\n",
       "      <td>NaN</td>\n",
       "      <td>NaN</td>\n",
       "      <td>NaN</td>\n",
       "      <td>NaN</td>\n",
       "      <td>NaN</td>\n",
       "      <td>NaN</td>\n",
       "      <td>NaN</td>\n",
       "    </tr>\n",
       "    <tr>\n",
       "      <th>time_of_day</th>\n",
       "      <td>NaN</td>\n",
       "      <td>NaN</td>\n",
       "      <td>NaN</td>\n",
       "      <td>NaN</td>\n",
       "      <td>NaN</td>\n",
       "      <td>NaN</td>\n",
       "      <td>NaN</td>\n",
       "      <td>1.0</td>\n",
       "      <td>NaN</td>\n",
       "      <td>NaN</td>\n",
       "      <td>NaN</td>\n",
       "      <td>NaN</td>\n",
       "      <td>NaN</td>\n",
       "      <td>NaN</td>\n",
       "      <td>NaN</td>\n",
       "      <td>NaN</td>\n",
       "      <td>NaN</td>\n",
       "      <td>NaN</td>\n",
       "      <td>NaN</td>\n",
       "    </tr>\n",
       "    <tr>\n",
       "      <th>CRD</th>\n",
       "      <td>NaN</td>\n",
       "      <td>NaN</td>\n",
       "      <td>NaN</td>\n",
       "      <td>NaN</td>\n",
       "      <td>NaN</td>\n",
       "      <td>NaN</td>\n",
       "      <td>NaN</td>\n",
       "      <td>NaN</td>\n",
       "      <td>1.0</td>\n",
       "      <td>NaN</td>\n",
       "      <td>NaN</td>\n",
       "      <td>NaN</td>\n",
       "      <td>NaN</td>\n",
       "      <td>NaN</td>\n",
       "      <td>NaN</td>\n",
       "      <td>NaN</td>\n",
       "      <td>NaN</td>\n",
       "      <td>NaN</td>\n",
       "      <td>NaN</td>\n",
       "    </tr>\n",
       "    <tr>\n",
       "      <th>UNK</th>\n",
       "      <td>NaN</td>\n",
       "      <td>NaN</td>\n",
       "      <td>NaN</td>\n",
       "      <td>NaN</td>\n",
       "      <td>NaN</td>\n",
       "      <td>NaN</td>\n",
       "      <td>NaN</td>\n",
       "      <td>NaN</td>\n",
       "      <td>NaN</td>\n",
       "      <td>1.0</td>\n",
       "      <td>NaN</td>\n",
       "      <td>NaN</td>\n",
       "      <td>NaN</td>\n",
       "      <td>NaN</td>\n",
       "      <td>NaN</td>\n",
       "      <td>NaN</td>\n",
       "      <td>NaN</td>\n",
       "      <td>NaN</td>\n",
       "      <td>NaN</td>\n",
       "    </tr>\n",
       "    <tr>\n",
       "      <th>NOC</th>\n",
       "      <td>NaN</td>\n",
       "      <td>NaN</td>\n",
       "      <td>NaN</td>\n",
       "      <td>NaN</td>\n",
       "      <td>NaN</td>\n",
       "      <td>NaN</td>\n",
       "      <td>NaN</td>\n",
       "      <td>NaN</td>\n",
       "      <td>NaN</td>\n",
       "      <td>NaN</td>\n",
       "      <td>1.0</td>\n",
       "      <td>NaN</td>\n",
       "      <td>NaN</td>\n",
       "      <td>NaN</td>\n",
       "      <td>NaN</td>\n",
       "      <td>NaN</td>\n",
       "      <td>NaN</td>\n",
       "      <td>NaN</td>\n",
       "      <td>NaN</td>\n",
       "    </tr>\n",
       "    <tr>\n",
       "      <th>DIS</th>\n",
       "      <td>NaN</td>\n",
       "      <td>NaN</td>\n",
       "      <td>NaN</td>\n",
       "      <td>NaN</td>\n",
       "      <td>NaN</td>\n",
       "      <td>NaN</td>\n",
       "      <td>NaN</td>\n",
       "      <td>NaN</td>\n",
       "      <td>NaN</td>\n",
       "      <td>NaN</td>\n",
       "      <td>NaN</td>\n",
       "      <td>1.0</td>\n",
       "      <td>NaN</td>\n",
       "      <td>NaN</td>\n",
       "      <td>NaN</td>\n",
       "      <td>NaN</td>\n",
       "      <td>NaN</td>\n",
       "      <td>NaN</td>\n",
       "      <td>NaN</td>\n",
       "    </tr>\n",
       "    <tr>\n",
       "      <th>CSH</th>\n",
       "      <td>NaN</td>\n",
       "      <td>NaN</td>\n",
       "      <td>NaN</td>\n",
       "      <td>NaN</td>\n",
       "      <td>NaN</td>\n",
       "      <td>NaN</td>\n",
       "      <td>NaN</td>\n",
       "      <td>NaN</td>\n",
       "      <td>NaN</td>\n",
       "      <td>NaN</td>\n",
       "      <td>NaN</td>\n",
       "      <td>NaN</td>\n",
       "      <td>1.0</td>\n",
       "      <td>NaN</td>\n",
       "      <td>NaN</td>\n",
       "      <td>NaN</td>\n",
       "      <td>NaN</td>\n",
       "      <td>NaN</td>\n",
       "      <td>NaN</td>\n",
       "    </tr>\n",
       "    <tr>\n",
       "      <th>Other</th>\n",
       "      <td>NaN</td>\n",
       "      <td>NaN</td>\n",
       "      <td>NaN</td>\n",
       "      <td>NaN</td>\n",
       "      <td>NaN</td>\n",
       "      <td>NaN</td>\n",
       "      <td>NaN</td>\n",
       "      <td>NaN</td>\n",
       "      <td>NaN</td>\n",
       "      <td>NaN</td>\n",
       "      <td>NaN</td>\n",
       "      <td>NaN</td>\n",
       "      <td>NaN</td>\n",
       "      <td>1.0</td>\n",
       "      <td>NaN</td>\n",
       "      <td>NaN</td>\n",
       "      <td>NaN</td>\n",
       "      <td>NaN</td>\n",
       "      <td>NaN</td>\n",
       "    </tr>\n",
       "    <tr>\n",
       "      <th>Upper East Side</th>\n",
       "      <td>NaN</td>\n",
       "      <td>NaN</td>\n",
       "      <td>NaN</td>\n",
       "      <td>NaN</td>\n",
       "      <td>NaN</td>\n",
       "      <td>NaN</td>\n",
       "      <td>NaN</td>\n",
       "      <td>NaN</td>\n",
       "      <td>NaN</td>\n",
       "      <td>NaN</td>\n",
       "      <td>NaN</td>\n",
       "      <td>NaN</td>\n",
       "      <td>NaN</td>\n",
       "      <td>NaN</td>\n",
       "      <td>1.0</td>\n",
       "      <td>NaN</td>\n",
       "      <td>NaN</td>\n",
       "      <td>NaN</td>\n",
       "      <td>NaN</td>\n",
       "    </tr>\n",
       "    <tr>\n",
       "      <th>Midtown</th>\n",
       "      <td>NaN</td>\n",
       "      <td>NaN</td>\n",
       "      <td>NaN</td>\n",
       "      <td>NaN</td>\n",
       "      <td>NaN</td>\n",
       "      <td>NaN</td>\n",
       "      <td>NaN</td>\n",
       "      <td>NaN</td>\n",
       "      <td>NaN</td>\n",
       "      <td>NaN</td>\n",
       "      <td>NaN</td>\n",
       "      <td>NaN</td>\n",
       "      <td>NaN</td>\n",
       "      <td>NaN</td>\n",
       "      <td>NaN</td>\n",
       "      <td>1.0</td>\n",
       "      <td>NaN</td>\n",
       "      <td>NaN</td>\n",
       "      <td>NaN</td>\n",
       "    </tr>\n",
       "    <tr>\n",
       "      <th>Greenwich</th>\n",
       "      <td>NaN</td>\n",
       "      <td>NaN</td>\n",
       "      <td>NaN</td>\n",
       "      <td>NaN</td>\n",
       "      <td>NaN</td>\n",
       "      <td>NaN</td>\n",
       "      <td>NaN</td>\n",
       "      <td>NaN</td>\n",
       "      <td>NaN</td>\n",
       "      <td>NaN</td>\n",
       "      <td>NaN</td>\n",
       "      <td>NaN</td>\n",
       "      <td>NaN</td>\n",
       "      <td>NaN</td>\n",
       "      <td>NaN</td>\n",
       "      <td>NaN</td>\n",
       "      <td>1.0</td>\n",
       "      <td>NaN</td>\n",
       "      <td>NaN</td>\n",
       "    </tr>\n",
       "    <tr>\n",
       "      <th>Tribeca</th>\n",
       "      <td>NaN</td>\n",
       "      <td>NaN</td>\n",
       "      <td>NaN</td>\n",
       "      <td>NaN</td>\n",
       "      <td>NaN</td>\n",
       "      <td>NaN</td>\n",
       "      <td>NaN</td>\n",
       "      <td>NaN</td>\n",
       "      <td>NaN</td>\n",
       "      <td>NaN</td>\n",
       "      <td>NaN</td>\n",
       "      <td>NaN</td>\n",
       "      <td>NaN</td>\n",
       "      <td>NaN</td>\n",
       "      <td>NaN</td>\n",
       "      <td>NaN</td>\n",
       "      <td>NaN</td>\n",
       "      <td>1.0</td>\n",
       "      <td>NaN</td>\n",
       "    </tr>\n",
       "    <tr>\n",
       "      <th>Financial District</th>\n",
       "      <td>NaN</td>\n",
       "      <td>NaN</td>\n",
       "      <td>NaN</td>\n",
       "      <td>NaN</td>\n",
       "      <td>NaN</td>\n",
       "      <td>NaN</td>\n",
       "      <td>NaN</td>\n",
       "      <td>NaN</td>\n",
       "      <td>NaN</td>\n",
       "      <td>NaN</td>\n",
       "      <td>NaN</td>\n",
       "      <td>NaN</td>\n",
       "      <td>NaN</td>\n",
       "      <td>NaN</td>\n",
       "      <td>NaN</td>\n",
       "      <td>NaN</td>\n",
       "      <td>NaN</td>\n",
       "      <td>NaN</td>\n",
       "      <td>1.0</td>\n",
       "    </tr>\n",
       "  </tbody>\n",
       "</table>\n",
       "</div>"
      ],
      "text/plain": [
       "                    vendor_id  passenger_count  trip_distance  fare_amount  \\\n",
       "vendor_id                 1.0              NaN            NaN          NaN   \n",
       "passenger_count           NaN              1.0            NaN          NaN   \n",
       "trip_distance             NaN              NaN            1.0          NaN   \n",
       "fare_amount               NaN              NaN            NaN          1.0   \n",
       "surcharge                 NaN              NaN            NaN          NaN   \n",
       "tolls_amount              NaN              NaN            NaN          NaN   \n",
       "duration                  NaN              NaN            NaN          NaN   \n",
       "time_of_day               NaN              NaN            NaN          NaN   \n",
       "CRD                       NaN              NaN            NaN          NaN   \n",
       "UNK                       NaN              NaN            NaN          NaN   \n",
       "NOC                       NaN              NaN            NaN          NaN   \n",
       "DIS                       NaN              NaN            NaN          NaN   \n",
       "CSH                       NaN              NaN            NaN          NaN   \n",
       "Other                     NaN              NaN            NaN          NaN   \n",
       "Upper East Side           NaN              NaN            NaN          NaN   \n",
       "Midtown                   NaN              NaN            NaN          NaN   \n",
       "Greenwich                 NaN              NaN            NaN          NaN   \n",
       "Tribeca                   NaN              NaN            NaN          NaN   \n",
       "Financial District        NaN              NaN            NaN          NaN   \n",
       "\n",
       "                    surcharge  tolls_amount  duration  time_of_day  CRD  UNK  \\\n",
       "vendor_id                 NaN           NaN       NaN          NaN  NaN  NaN   \n",
       "passenger_count           NaN           NaN       NaN          NaN  NaN  NaN   \n",
       "trip_distance             NaN           NaN       NaN          NaN  NaN  NaN   \n",
       "fare_amount               NaN           NaN       NaN          NaN  NaN  NaN   \n",
       "surcharge                 1.0           NaN       NaN          NaN  NaN  NaN   \n",
       "tolls_amount              NaN           1.0       NaN          NaN  NaN  NaN   \n",
       "duration                  NaN           NaN       1.0          NaN  NaN  NaN   \n",
       "time_of_day               NaN           NaN       NaN          1.0  NaN  NaN   \n",
       "CRD                       NaN           NaN       NaN          NaN  1.0  NaN   \n",
       "UNK                       NaN           NaN       NaN          NaN  NaN  1.0   \n",
       "NOC                       NaN           NaN       NaN          NaN  NaN  NaN   \n",
       "DIS                       NaN           NaN       NaN          NaN  NaN  NaN   \n",
       "CSH                       NaN           NaN       NaN          NaN  NaN  NaN   \n",
       "Other                     NaN           NaN       NaN          NaN  NaN  NaN   \n",
       "Upper East Side           NaN           NaN       NaN          NaN  NaN  NaN   \n",
       "Midtown                   NaN           NaN       NaN          NaN  NaN  NaN   \n",
       "Greenwich                 NaN           NaN       NaN          NaN  NaN  NaN   \n",
       "Tribeca                   NaN           NaN       NaN          NaN  NaN  NaN   \n",
       "Financial District        NaN           NaN       NaN          NaN  NaN  NaN   \n",
       "\n",
       "                    NOC  DIS  CSH  Other  Upper East Side  Midtown  Greenwich  \\\n",
       "vendor_id           NaN  NaN  NaN    NaN              NaN      NaN        NaN   \n",
       "passenger_count     NaN  NaN  NaN    NaN              NaN      NaN        NaN   \n",
       "trip_distance       NaN  NaN  NaN    NaN              NaN      NaN        NaN   \n",
       "fare_amount         NaN  NaN  NaN    NaN              NaN      NaN        NaN   \n",
       "surcharge           NaN  NaN  NaN    NaN              NaN      NaN        NaN   \n",
       "tolls_amount        NaN  NaN  NaN    NaN              NaN      NaN        NaN   \n",
       "duration            NaN  NaN  NaN    NaN              NaN      NaN        NaN   \n",
       "time_of_day         NaN  NaN  NaN    NaN              NaN      NaN        NaN   \n",
       "CRD                 NaN  NaN  NaN    NaN              NaN      NaN        NaN   \n",
       "UNK                 NaN  NaN  NaN    NaN              NaN      NaN        NaN   \n",
       "NOC                 1.0  NaN  NaN    NaN              NaN      NaN        NaN   \n",
       "DIS                 NaN  1.0  NaN    NaN              NaN      NaN        NaN   \n",
       "CSH                 NaN  NaN  1.0    NaN              NaN      NaN        NaN   \n",
       "Other               NaN  NaN  NaN    1.0              NaN      NaN        NaN   \n",
       "Upper East Side     NaN  NaN  NaN    NaN              1.0      NaN        NaN   \n",
       "Midtown             NaN  NaN  NaN    NaN              NaN      1.0        NaN   \n",
       "Greenwich           NaN  NaN  NaN    NaN              NaN      NaN        1.0   \n",
       "Tribeca             NaN  NaN  NaN    NaN              NaN      NaN        NaN   \n",
       "Financial District  NaN  NaN  NaN    NaN              NaN      NaN        NaN   \n",
       "\n",
       "                    Tribeca  Financial District  \n",
       "vendor_id               NaN                 NaN  \n",
       "passenger_count         NaN                 NaN  \n",
       "trip_distance           NaN                 NaN  \n",
       "fare_amount             NaN                 NaN  \n",
       "surcharge               NaN                 NaN  \n",
       "tolls_amount            NaN                 NaN  \n",
       "duration                NaN                 NaN  \n",
       "time_of_day             NaN                 NaN  \n",
       "CRD                     NaN                 NaN  \n",
       "UNK                     NaN                 NaN  \n",
       "NOC                     NaN                 NaN  \n",
       "DIS                     NaN                 NaN  \n",
       "CSH                     NaN                 NaN  \n",
       "Other                   NaN                 NaN  \n",
       "Upper East Side         NaN                 NaN  \n",
       "Midtown                 NaN                 NaN  \n",
       "Greenwich               NaN                 NaN  \n",
       "Tribeca                 1.0                 NaN  \n",
       "Financial District      NaN                 1.0  "
      ]
     },
     "execution_count": 10,
     "metadata": {},
     "output_type": "execute_result"
    },
    {
     "data": {
      "image/png": "[encoded data removed]",
      "text/plain": [
       "<Figure size 432x288 with 2 Axes>"
      ]
     },
     "metadata": {
      "needs_background": "light"
     },
     "output_type": "display_data"
    }
   ],
   "source": [
    "sns.heatmap(x_train.corr())\n",
    "x_train.corr()[x_train.corr().abs() > 0.99]"
   ]
  },
  {
   "cell_type": "code",
   "execution_count": 11,
   "metadata": {},
   "outputs": [
    {
     "name": "stdout",
     "output_type": "stream",
     "text": [
      "fare_amount           2\n",
      "UNK                   1\n",
      "CRD                   1\n",
      "trip_distance         1\n",
      "duration              1\n",
      "passenger_count       0\n",
      "surcharge             0\n",
      "tolls_amount          0\n",
      "time_of_day           0\n",
      "Financial District    0\n",
      "Tribeca               0\n",
      "NOC                   0\n",
      "DIS                   0\n",
      "CSH                   0\n",
      "Other                 0\n",
      "Upper East Side       0\n",
      "Midtown               0\n",
      "Greenwich             0\n",
      "vendor_id             0\n",
      "dtype: int64\n"
     ]
    }
   ],
   "source": [
    "def print_heavily_correlated_features(df, threshold=0.7):\n",
    "  corr = df.corr().abs()\n",
    "  corr = corr[corr > threshold]\n",
    "  print(corr.count().sort_values(ascending=False) - 1)\n",
    "\n",
    "print_heavily_correlated_features(x_train, 0.7)"
   ]
  },
  {
   "cell_type": "markdown",
   "metadata": {},
   "source": [
    "y_pred= lasso.predict(x_test)\n",
    "pre = precision_score(y_test, y_pred) # since the dataset is imbalanced\n",
    "rec = recall_score(y_test, y_pred)\n",
    "\n",
    "print('The pre score is {} and the recall score is {}'.format(pre, recall))"
   ]
  },
  {
   "cell_type": "markdown",
   "metadata": {},
   "source": [
    "## Logistic Regression"
   ]
  },
  {
   "cell_type": "code",
   "execution_count": 13,
   "metadata": {},
   "outputs": [
    {
     "data": {
      "text/plain": [
       "LogisticRegression(C=1.0, class_weight=None, dual=False, fit_intercept=True,\n",
       "          intercept_scaling=1, max_iter=100, multi_class='warn',\n",
       "          n_jobs=None, penalty='l2', random_state=None, solver='warn',\n",
       "          tol=0.0001, verbose=0, warm_start=False)"
      ]
     },
     "execution_count": 13,
     "metadata": {},
     "output_type": "execute_result"
    }
   ],
   "source": [
    "# Fit the model\n",
    "logreg = LogisticRegression()\n",
    "logreg.fit(x_train, y_train)"
   ]
  },
  {
   "cell_type": "code",
   "execution_count": 14,
   "metadata": {},
   "outputs": [
    {
     "name": "stdout",
     "output_type": "stream",
     "text": [
      "The train score is 0.30662242763809155 and the test score is 0.3064880160818023\n"
     ]
    }
   ],
   "source": [
    "# calculate the score\n",
    "train_score = logreg.score(x_train, y_train)\n",
    "test_score = logreg.score(x_test, y_test)\n",
    "print('The train score is {} and the test score is {}'.format(train_score, test_score))"
   ]
  },
  {
   "cell_type": "code",
   "execution_count": null,
   "metadata": {},
   "outputs": [],
   "source": [
    "## Switch back to L1 regularization instead of L2 which is automatic "
   ]
  },
  {
   "cell_type": "markdown",
   "metadata": {},
   "source": [
    "## Classification Error"
   ]
  },
  {
   "cell_type": "code",
   "execution_count": 22,
   "metadata": {},
   "outputs": [
    {
     "data": {
      "image/png": "[encoded data removed]",
      "text/plain": [
       "<Figure size 432x288 with 2 Axes>"
      ]
     },
     "metadata": {
      "needs_background": "light"
     },
     "output_type": "display_data"
    }
   ],
   "source": [
    "y_pred = logreg.predict(x_test)\n",
    "cfm = confusion_matrix(y_true=y_test, y_pred=y_pred)\n",
    "ax = sns.heatmap(cfm, annot=True)\n",
    "ax.set(xlabel='Predicted', ylabel='Actual');"
   ]
  },
  {
   "cell_type": "code",
   "execution_count": 19,
   "metadata": {},
   "outputs": [
    {
     "name": "stdout",
     "output_type": "stream",
     "text": [
      "The recall is 1.0 and the precision is 0.6666666666666666\n"
     ]
    }
   ],
   "source": [
    "recall = cfm[1,1] / (cfm[1,0] + cfm[1,1])\n",
    "precision = cfm[1, 1] / (cfm[0, 1] + cfm[1, 1])\n",
    "print('The recall is {} and the precision is {}'.format(recall, precision))"
   ]
  },
  {
   "cell_type": "markdown",
   "metadata": {},
   "source": [
    "## CART Model "
   ]
  },
  {
   "cell_type": "code",
   "execution_count": 23,
   "metadata": {},
   "outputs": [],
   "source": [
    "# Train the CART model\n",
    "cart_model = DecisionTreeClassifier(random_state=3,max_depth=3)\n",
    "cart_model.fit(x_train, y_train)\n",
    "train_score = cart_model.score(x_train, y_train)\n",
    "test_score = cart_model.score(x_test, y_test)"
   ]
  },
  {
   "cell_type": "code",
   "execution_count": 24,
   "metadata": {},
   "outputs": [
    {
     "name": "stdout",
     "output_type": "stream",
     "text": [
      "The score of this model over training data is 0.447 and 0.448 over the testing data\n"
     ]
    }
   ],
   "source": [
    "# Print out summary of model performance \n",
    "print('The score of this model over training data is {:.3f} and {:.3f} over the testing data'.format(train_score, test_score))"
   ]
  },
  {
   "cell_type": "code",
   "execution_count": 24,
   "metadata": {},
   "outputs": [
    {
     "ename": "NameError",
     "evalue": "name 'Source' is not defined",
     "output_type": "error",
     "traceback": [
      "\u001b[1;31m---------------------------------------------------------------------------\u001b[0m",
      "\u001b[1;31mNameError\u001b[0m                                 Traceback (most recent call last)",
      "\u001b[1;32m<ipython-input-24-54588acfd0d9>\u001b[0m in \u001b[0;36m<module>\u001b[1;34m\u001b[0m\n\u001b[0;32m      1\u001b[0m \u001b[1;31m# Visualize the decision tree\u001b[0m\u001b[1;33m\u001b[0m\u001b[1;33m\u001b[0m\u001b[1;33m\u001b[0m\u001b[0m\n\u001b[1;32m----> 2\u001b[1;33m cart_graph = Source(export_graphviz(cart_model,\n\u001b[0m\u001b[0;32m      3\u001b[0m                    \u001b[0mfeature_names\u001b[0m \u001b[1;33m=\u001b[0m \u001b[0mdf\u001b[0m\u001b[1;33m.\u001b[0m\u001b[0mcolumns\u001b[0m\u001b[1;33m[\u001b[0m\u001b[1;36m1\u001b[0m\u001b[1;33m:\u001b[0m\u001b[1;33m]\u001b[0m\u001b[1;33m,\u001b[0m\u001b[1;33m\u001b[0m\u001b[1;33m\u001b[0m\u001b[0m\n\u001b[0;32m      4\u001b[0m                    \u001b[0mrounded\u001b[0m \u001b[1;33m=\u001b[0m \u001b[1;32mTrue\u001b[0m\u001b[1;33m,\u001b[0m \u001b[0mproportion\u001b[0m \u001b[1;33m=\u001b[0m \u001b[1;32mFalse\u001b[0m\u001b[1;33m,\u001b[0m\u001b[1;33m\u001b[0m\u001b[1;33m\u001b[0m\u001b[0m\n\u001b[0;32m      5\u001b[0m                   filled = True))\n",
      "\u001b[1;31mNameError\u001b[0m: name 'Source' is not defined"
     ]
    }
   ],
   "source": [
    "# Visualize the decision tree\n",
    "cart_graph = Source(export_graphviz(cart_model,\n",
    "                   feature_names = df.columns[1:],\n",
    "                   rounded = True, proportion = False, \n",
    "                  filled = True))\n",
    "SVG(cart_graph.pipe(format='svg'))"
   ]
  },
  {
   "cell_type": "code",
   "execution_count": 25,
   "metadata": {},
   "outputs": [
    {
     "data": {
      "text/plain": [
       "vendor_id             0.000000\n",
       "passenger_count       0.000000\n",
       "trip_distance         0.000000\n",
       "fare_amount           0.981963\n",
       "surcharge             0.000000\n",
       "tolls_amount          0.000000\n",
       "duration              0.000000\n",
       "time_of_day           0.000000\n",
       "CRD                   0.000000\n",
       "UNK                   0.000000\n",
       "NOC                   0.018037\n",
       "DIS                   0.000000\n",
       "CSH                   0.000000\n",
       "Other                 0.000000\n",
       "Upper East Side       0.000000\n",
       "Midtown               0.000000\n",
       "Greenwich             0.000000\n",
       "Tribeca               0.000000\n",
       "Financial District    0.000000\n",
       "dtype: float64"
      ]
     },
     "execution_count": 25,
     "metadata": {},
     "output_type": "execute_result"
    }
   ],
   "source": [
    "pd.Series(cart_model.feature_importances_, index=x_train.columns)"
   ]
  },
  {
   "cell_type": "code",
   "execution_count": 26,
   "metadata": {},
   "outputs": [
    {
     "name": "stdout",
     "output_type": "stream",
     "text": [
      "The accuracy of this model on the training data is 0.448\n"
     ]
    }
   ],
   "source": [
    "cart_model.fit(x_test, y_test)\n",
    "mdlAcc = np.mean((cart_model.predict(x_test) == y_test))\n",
    "print('The accuracy of this model on the training data is {:.3f}'.format(round(mdlAcc,3)))"
   ]
  },
  {
   "cell_type": "markdown",
   "metadata": {},
   "source": [
    "## Fit and score model method"
   ]
  },
  {
   "cell_type": "code",
   "execution_count": 27,
   "metadata": {},
   "outputs": [],
   "source": [
    "def fit_and_score_model(mdl, x_train, x_test, y_train, y_test, random_state=0):\n",
    "    \"\"\"\n",
    "    This function will fit and score the input mdl to the x_train and y_train \n",
    "    data, and score the mdl on y_train and y_test. To ensure results are \n",
    "    reproducible we can also set a random state.\n",
    "    \"\"\"\n",
    "  \n",
    "    # Fit an arbitrary model\n",
    "    mdl.fit(x_train, y_train)\n",
    "    \n",
    "    # Calculate the score of the model on training and testing data\n",
    "    train_score = mdl.score(x_train, y_train)\n",
    "    test_score = mdl.score(x_test, y_test)\n",
    "  \n",
    "    # Print scores to terminal\n",
    "    print('the accuracy on the: \\n\\t training data is {}'.format(round(train_score,3)))\n",
    "    print('\\t testing data is {}'.format(round(test_score, 3)))\n",
    "    \n",
    "    return train_score, test_score"
   ]
  },
  {
   "cell_type": "markdown",
   "metadata": {},
   "source": [
    "### Random Forest "
   ]
  },
  {
   "cell_type": "code",
   "execution_count": 28,
   "metadata": {},
   "outputs": [],
   "source": [
    "from sklearn.ensemble import RandomForestClassifier"
   ]
  },
  {
   "cell_type": "code",
   "execution_count": 31,
   "metadata": {},
   "outputs": [
    {
     "name": "stdout",
     "output_type": "stream",
     "text": [
      "For 2 max_depth the accuracy on the: \n",
      "\t training data is 0.343\n",
      "\t testing data is 0.343\n",
      "For 3 max_depth the accuracy on the: \n",
      "\t training data is 0.354\n",
      "\t testing data is 0.354\n",
      "For 4 max_depth the accuracy on the: \n",
      "\t training data is 0.391\n",
      "\t testing data is 0.391\n",
      "For 5 max_depth the accuracy on the: \n",
      "\t training data is 0.449\n",
      "\t testing data is 0.449\n",
      "For 6 max_depth the accuracy on the: \n",
      "\t training data is 0.459\n",
      "\t testing data is 0.46\n",
      "For 7 max_depth the accuracy on the: \n",
      "\t training data is 0.471\n",
      "\t testing data is 0.471\n"
     ]
    }
   ],
   "source": [
    "depths = [2, 3, 4, 5, 6, 7]\n",
    "accuracy = pd.Series(index=depths)\n",
    "cheat_scores = {}\n",
    "\n",
    "for max_depth in depths:\n",
    "\n",
    "    # Initialize the model\n",
    "    rf_baseline_model = RandomForestClassifier(\n",
    "        random_state = 0, \n",
    "        max_depth = max_depth,\n",
    "        n_estimators = 50, max_features = 0.2\n",
    "    )\n",
    "    \n",
    "    # Fit and train model\n",
    "    print('For {} max_depth '.format(max_depth), end='')\n",
    "    train_score, test_score = fit_and_score_model(rf_baseline_model, x_train, x_test, y_train, y_test)\n",
    "    \n",
    "    # Save model performance to dataframe\n",
    "    cheat_scores[max_depth] = test_score\n",
    "    "
   ]
  },
  {
   "cell_type": "code",
   "execution_count": null,
   "metadata": {},
   "outputs": [],
   "source": [
    "from sklearn.model_selection import cross_validate\n",
    "\n",
    "# Initailize cross validation score DataFrame\n",
    "depth_lb = 1\n",
    "depth_ub = 21\n",
    "cv_scores = pd.Series(index=np.arange(depth_lb, depth_ub))\n",
    "\n",
    "for max_depth in range(depth_lb, depth_ub):\n",
    "  \n",
    "  # Initialize the model\n",
    "  rf_cv1_model = RandomForestClassifier(random_state = 0, max_depth = max_depth,\n",
    "                          n_estimators = 50, max_features = 0.2)\n",
    "\n",
    "  # Run cross validation to get measure of out-of-sample error\n",
    "  example_cv_results = cross_validate(rf_cv1_model, x_train, y_train, cv=5)\n",
    "  \n",
    "  # Record the average out-of-sample error\n",
    "  cv_scores.loc[max_depth] = example_cv_results['test_score'].mean()"
   ]
  },
  {
   "cell_type": "code",
   "execution_count": null,
   "metadata": {},
   "outputs": [],
   "source": [
    "sns.scatterplot(x=cv_scores.index, y=cv_scores.values)\n",
    "plt.xlabel('Max Depth')\n",
    "plt.ylabel('Score')\n",
    "\n",
    "cv_scores.idxmax()"
   ]
  },
  {
   "cell_type": "markdown",
   "metadata": {},
   "source": [
    "### Manual feature selection"
   ]
  },
  {
   "cell_type": "code",
   "execution_count": 30,
   "metadata": {},
   "outputs": [
    {
     "data": {
      "text/plain": [
       "Index(['vendor_id', 'pickup_datetime', 'dropoff_datetime', 'passenger_count',\n",
       "       'trip_distance', 'pickup_longitude', 'pickup_latitude',\n",
       "       'dropoff_longitude', 'dropoff_latitude', 'fare_amount', 'surcharge',\n",
       "       'mta_tax', 'tip_amount', 'tolls_amount', 'total_amount', 'duration',\n",
       "       'time_of_day', 'CRD', 'UNK', 'NOC', 'DIS', 'CSH', 'tip_percent',\n",
       "       'tip_amount_binned', 'Other', 'Upper East Side', 'Midtown', 'Greenwich',\n",
       "       'Tribeca', 'Financial District'],\n",
       "      dtype='object')"
      ]
     },
     "execution_count": 30,
     "metadata": {},
     "output_type": "execute_result"
    }
   ],
   "source": [
    "data.columns"
   ]
  },
  {
   "cell_type": "code",
   "execution_count": 32,
   "metadata": {},
   "outputs": [],
   "source": [
    "x_train, x_test, y_train, y_test = train_test_split(data[['fare_amount','NOC']], data['tip_amount_binned'], test_size=0.30, random_state=1)"
   ]
  },
  {
   "cell_type": "code",
   "execution_count": 33,
   "metadata": {},
   "outputs": [],
   "source": [
    "# Train the CART model\n",
    "cart_model = DecisionTreeClassifier(random_state=3,max_depth=3)\n",
    "cart_model.fit(x_train, y_train)\n",
    "train_score = cart_model.score(x_train, y_train)\n",
    "test_score = cart_model.score(x_test, y_test)"
   ]
  },
  {
   "cell_type": "code",
   "execution_count": 34,
   "metadata": {},
   "outputs": [
    {
     "name": "stdout",
     "output_type": "stream",
     "text": [
      "The score of this model over training data is 0.447 and 0.448 over the testing data\n"
     ]
    }
   ],
   "source": [
    "# Print out summary of model performance \n",
    "print('The score of this model over training data is {:.3f} and {:.3f} over the testing data'.format(train_score, test_score))"
   ]
  },
  {
   "cell_type": "code",
   "execution_count": 35,
   "metadata": {},
   "outputs": [],
   "source": [
    "rf_baseline_model = RandomForestClassifier(\n",
    "        random_state = 0, \n",
    "        max_depth = max_depth,\n",
    "        n_estimators = 50, max_features = 0.2)"
   ]
  },
  {
   "cell_type": "code",
   "execution_count": 36,
   "metadata": {},
   "outputs": [
    {
     "name": "stdout",
     "output_type": "stream",
     "text": [
      "the accuracy on the: \n",
      "\t training data is 0.476\n",
      "\t testing data is 0.477\n"
     ]
    }
   ],
   "source": [
    "train_score, test_score = fit_and_score_model(rf_baseline_model, x_train, x_test, y_train, y_test)"
   ]
  },
  {
   "cell_type": "code",
   "execution_count": null,
   "metadata": {},
   "outputs": [],
   "source": []
  }
 ],
 "metadata": {
  "kernelspec": {
   "display_name": "Python 3",
   "language": "python",
   "name": "python3"
  },
  "language_info": {
   "codemirror_mode": {
    "name": "ipython",
    "version": 3
   },
   "file_extension": ".py",
   "mimetype": "text/x-python",
   "name": "python",
   "nbconvert_exporter": "python",
   "pygments_lexer": "ipython3",
   "version": "3.7.3"
  }
 },
 "nbformat": 4,
 "nbformat_minor": 2
}
